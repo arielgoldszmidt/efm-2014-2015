{
 "metadata": {
  "name": "",
  "signature": "sha256:9eda8c727331628074a4caac85477c754d3704d94a4a75c5b6c005a0430a58a0"
 },
 "nbformat": 3,
 "nbformat_minor": 0,
 "worksheets": [
  {
   "cells": [
    {
     "cell_type": "heading",
     "level": 1,
     "metadata": {},
     "source": [
      "EFM Fall 2014, Week 4 Assignment"
     ]
    },
    {
     "cell_type": "markdown",
     "metadata": {},
     "source": [
      "Complete as many of the following questions as possible. You should not spend more than an hour total on this assignment, regardless of your skill level. \n",
      "Feel free to work in groups or refer to online sources such as Stack Overflow, but refrain for looking for specific solutions to the questions. \n",
      "\n",
      "Email your solutions to [efm.uchicago@gmail.com](mailto:efm.uchicago@gmail.com) in a single python file, named **LASTNAME\\_FIRSTNAME.py** or **LASTNAME\\_FIRSTNAME.ipynb**. Also feel free to email us if you have any problems."
     ]
    },
    {
     "cell_type": "markdown",
     "metadata": {},
     "source": [
      "------"
     ]
    },
    {
     "cell_type": "markdown",
     "metadata": {},
     "source": [
      "** Question 1 **\n",
      "\n",
      "Write a function called **is_even** that takes a number as an argument, and returns **True** if it is even, and returns **False** if it is not."
     ]
    },
    {
     "cell_type": "code",
     "collapsed": false,
     "input": [
      "def is_even(n):\n",
      "    pass"
     ],
     "language": "python",
     "metadata": {},
     "outputs": [],
     "prompt_number": 53
    },
    {
     "cell_type": "markdown",
     "metadata": {},
     "source": [
      "** Question 2 **\n",
      "\n",
      "Write a function that simulates a coin-flip: It has 50% chance of returning $1$, and 50% chance of returning $-1$."
     ]
    },
    {
     "cell_type": "code",
     "collapsed": false,
     "input": [
      "def coin_flip():\n",
      "    pass"
     ],
     "language": "python",
     "metadata": {},
     "outputs": []
    },
    {
     "cell_type": "markdown",
     "metadata": {},
     "source": [
      "** Question 3 **\n",
      "\n",
      "Write a function that simulates a coin-flip, except it takes an argument $p$.: It has $p$ chance of returning $1$, and $1-p$ chance of returning $-1$. Assume $0 \\leq p \\leq 1$."
     ]
    },
    {
     "cell_type": "code",
     "collapsed": false,
     "input": [
      "def custom_coin_flip(p):\n",
      "    pass"
     ],
     "language": "python",
     "metadata": {},
     "outputs": []
    },
    {
     "cell_type": "markdown",
     "metadata": {},
     "source": [
      "** Question 4 **\n",
      "\n",
      "Write a function that takes a list **ls** as an argument, and returns the mean (average) of that list.\n",
      "\n",
      "Note: Consider the case where your list contains integer - remember to account for the fact that Python divides by rounding down. Hint: Convert to a float before rounding."
     ]
    },
    {
     "cell_type": "code",
     "collapsed": false,
     "input": [
      "def calc_average(ls):\n",
      "    pass"
     ],
     "language": "python",
     "metadata": {},
     "outputs": []
    },
    {
     "cell_type": "markdown",
     "metadata": {},
     "source": [
      "** Question 5 **\n",
      "\n",
      "Write a function that takes a list **ls** as an argument, and returns a list with every element squared. I.e., given [1,2,3], return [1,4,9]."
     ]
    },
    {
     "cell_type": "code",
     "collapsed": false,
     "input": [
      "def square_my_list(ls):\n",
      "    pass"
     ],
     "language": "python",
     "metadata": {},
     "outputs": []
    },
    {
     "cell_type": "markdown",
     "metadata": {},
     "source": [
      "** Question 6 **\n",
      "\n",
      "Write a function that takes two arguments: a function  **f** and a list **ls**. Print the name of the function, and return a list with the function applied to every element. (Don't use the built-in **map** function.)\n",
      "\n",
      "Hint: You might want to run **dir(f)** for an arbitrary function to find what a function's name is"
     ]
    },
    {
     "cell_type": "code",
     "collapsed": false,
     "input": [
      "def map_my_list(f,ls):\n",
      "    pass"
     ],
     "language": "python",
     "metadata": {},
     "outputs": []
    },
    {
     "cell_type": "markdown",
     "metadata": {},
     "source": [
      "** Question 7 **\n",
      "\n",
      "Write a function that takes a list **ls** as an argument, and it randomly sorts and then returns **ls**.\n",
      "\n",
      "Hint: Figure out how to swap two elements, and then figure out how to randomly choose elements to swap."
     ]
    },
    {
     "cell_type": "code",
     "collapsed": false,
     "input": [
      "def random_sort(ls):\n",
      "    pass"
     ],
     "language": "python",
     "metadata": {},
     "outputs": []
    },
    {
     "cell_type": "markdown",
     "metadata": {},
     "source": [
      "** Question 8 **\n",
      "\n",
      "Look up and explain the difference between \n",
      "\n",
      "    sorted(ls)\n",
      "    \n",
      "and\n",
      "    \n",
      "    ls.sort()"
     ]
    },
    {
     "cell_type": "markdown",
     "metadata": {},
     "source": [
      "* Answer here! *"
     ]
    },
    {
     "cell_type": "markdown",
     "metadata": {},
     "source": [
      "** Question 9 **\n",
      "\n",
      "The following code gets stock price data from Yahoo! Finance, and puts the relevant data (dates, and adjusted price) into two lists.\n",
      "\n",
      "1. Add some code at the end to plot the adjusted close over time. Add in the relevant axes labels and titles. Note: Matplotlib is pretty smart about axis, so you can supply the existed list of dates, which is a list of **date** objects. Also, you might want to use the **xticks** function from pyplot to make your plot look better\n",
      "    \n",
      "2. Convert the code into a function that takes a string **ticker** as an argument, and produces the same plot for a given stock ticker.\n",
      "\n",
      "3. Find the average daily return (growth) of a given stock, and print that out too. You can make use of the fact that\n",
      "\n",
      "$$r_{t+1} = log(p_{t+1}) - log(p_t) \\approx \\frac{p_{t+1}}{p_t}-1$$\n",
      "\n",
      "You can find the **log** function in the **math** module.\n",
      "\n",
      "4. Plot the cumulative daily return of the stock, where the cumulative return at date $T$ is\n",
      "\n",
      "$$r_T^{cum} = \\sum_{t=0}^T r_t$$"
     ]
    },
    {
     "cell_type": "code",
     "collapsed": false,
     "input": [
      "## Library Imports\n",
      "import urllib\n",
      "import csv\n",
      "from dateutil import parser as dateparser\n",
      "\n",
      "## Get MSFT data from Yahoo Finance\n",
      "ticker = \"MSFT\"\n",
      "start_date = (1,19,2010)\n",
      "end_date = (1,19,2011)\n",
      "url = \"http://ichart.finance.yahoo.com/table.csv?s=%s&a=%d&b=%d&c=%d&d=%d&e=1%d&f=%d&g=d&ignore=.csv\"%(ticker,\n",
      "                                                                                                       start_date[0], start_date[1],start_date[2],\n",
      "                                                                                                       end_date[0], end_date[1],end_date[2])\n",
      "raw_data = urllib.urlopen(url).read().splitlines()\n",
      "data = list(csv.reader(raw_data))\n",
      "\n",
      "## Put relevant data into lists\n",
      "dates = [dateparser.parse(row[0]) for row in data[1:]]\n",
      "adjusted_closes = [row[6] for row in data[1:]]"
     ],
     "language": "python",
     "metadata": {},
     "outputs": [],
     "prompt_number": 1
    }
   ],
   "metadata": {}
  }
 ]
}