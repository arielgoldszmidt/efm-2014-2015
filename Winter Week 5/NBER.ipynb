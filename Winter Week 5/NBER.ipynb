{
 "metadata": {
  "name": "",
  "signature": "sha256:8cba4c80a2f3134643489785f621f9cfc20a3aa53f8b36814db647817f735e85"
 },
 "nbformat": 3,
 "nbformat_minor": 0,
 "worksheets": [
  {
   "cells": [
    {
     "cell_type": "code",
     "collapsed": false,
     "input": [
      "from lxml import html\n",
      "import requests"
     ],
     "language": "python",
     "metadata": {},
     "outputs": []
    },
    {
     "cell_type": "code",
     "collapsed": false,
     "input": [
      "def url_to_download(page_url):\n",
      "    ## Prep\n",
      "    r2 = requests.get(page_url)\n",
      "    parsed2 = html.fromstring(r2.text)\n",
      "    \n",
      "    ## Extract data\n",
      "    desc = parsed2.xpath(\"//td[@id='mainContentTd']/p[2]/text()\")[0].strip()\n",
      "    file_url = parsed2.xpath(\"//meta[@name='citation_pdf_url']/@content\")[0].strip()\n",
      "    authors = parsed2.xpath(\"//meta[@name='citation_author']/@content\")\n",
      "    paper_label = page_url.split(\"/\")[-1]\n",
      "    file_name = paper_label + \".pdf\"\n",
      "    \n",
      "    ## Download\n",
      "    file_r = requests.get(file_url)\n",
      "    with open(\"downloads/\"+file_name, \"wb\") as pdf_file:\n",
      "        pdf_file.write(file_r.content)\n",
      "        \n",
      "    return desc, authors, paper_label"
     ],
     "language": "python",
     "metadata": {},
     "outputs": []
    },
    {
     "cell_type": "code",
     "collapsed": false,
     "input": [
      "r = requests.get(\"http://www.nber.org/new.html\")\n",
      "base = \"http://www.nber.org\"\n",
      "parsed = html.fromstring(r.text)"
     ],
     "language": "python",
     "metadata": {},
     "outputs": []
    },
    {
     "cell_type": "code",
     "collapsed": false,
     "input": [
      "titles_and_hrefs = [(a.text.strip(),a.get(\"href\")) for a in parsed.xpath(\"//li/a[1]\")]"
     ],
     "language": "python",
     "metadata": {},
     "outputs": []
    },
    {
     "cell_type": "code",
     "collapsed": false,
     "input": [
      "for title, href in titles_and_hrefs:\n",
      "    desc, authors, paper_label = url_to_download(base+href)\n",
      "    print \"%s (%s)\"%(title, paper_label)\n",
      "    print \"  by %s\"%(', '.join(authors))\n",
      "    print desc\n",
      "    print \"\\n\\n\""
     ],
     "language": "python",
     "metadata": {},
     "outputs": []
    },
    {
     "cell_type": "code",
     "collapsed": false,
     "input": [],
     "language": "python",
     "metadata": {},
     "outputs": []
    }
   ],
   "metadata": {}
  }
 ]
}