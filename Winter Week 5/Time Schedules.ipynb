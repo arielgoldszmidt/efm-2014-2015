{
 "metadata": {
  "name": "",
  "signature": "sha256:5786893258980baaee1b975013b58e943c0bc531687c4e7521c048fc2e569629"
 },
 "nbformat": 3,
 "nbformat_minor": 0,
 "worksheets": [
  {
   "cells": [
    {
     "cell_type": "code",
     "collapsed": false,
     "input": [
      "from lxml import html\n",
      "import requests\n",
      "import collections"
     ],
     "language": "python",
     "metadata": {},
     "outputs": []
    },
    {
     "cell_type": "code",
     "collapsed": false,
     "input": [
      "def url_to_dataframe(page_url):\n",
      "    r2 = requests.get(page_url)\n",
      "    parsed2 = html.fromstring(r2.text)\n",
      "\n",
      "    dataframe_data = collections.OrderedDict()\n",
      "    dataframe_data[\"Course Number\"] = strip_all(parsed2.xpath(\"//tbody/tr/td[1]/a/span/text()\"))\n",
      "    fill_down(dataframe_data[\"Course Number\"])\n",
      "    dataframe_data[\"Course Title\"] = strip_all(parsed2.xpath(\"//tbody/tr/td[2]/span/text()\"))\n",
      "    fill_down(dataframe_data[\"Course Title\"])\n",
      "    dataframe_data[\"Instructor\"] = strip_all(parsed2.xpath(\"//tbody/tr/td[4]/span/text()\"))\n",
      "    fill_down(dataframe_data[\"Instructor\"])\n",
      "    dataframe_data[\"Day & Time\"] = [' '.join(a.xpath(\"text()\")).strip() for a in parsed2.xpath(\"//tbody/tr/td[5]/span\")]\n",
      "    dataframe_data[\"Enrollment\"] = parsed2.xpath(\"//tbody/tr/td[9]/span/text()\")\n",
      "    dataframe_data[\"Enrollment Limit\"] = parsed2.xpath(\"//tbody/tr/td[10]/span/text()\")\n",
      "    dataframe_data[\"Location\"] = [a.text_content() for a in parsed2.xpath(\"//tbody/tr/td[11]/span\")]\n",
      "    \n",
      "    return pd.DataFrame(dataframe_data)"
     ],
     "language": "python",
     "metadata": {},
     "outputs": []
    },
    {
     "cell_type": "code",
     "collapsed": false,
     "input": [
      "def fill_down(ls):\n",
      "    for i in range(1,len(ls)):\n",
      "        if not ls[i]:\n",
      "            ls[i] = ls[i-1]\n",
      "\n",
      "def strip_all(ls):\n",
      "    return [elem.strip() for elem in ls]"
     ],
     "language": "python",
     "metadata": {},
     "outputs": []
    },
    {
     "cell_type": "code",
     "collapsed": false,
     "input": [
      "r = requests.get(\"http://timeschedules.uchicago.edu/\")\n",
      "base = \"http://timeschedules.uchicago.edu/\"\n",
      "parsed = html.fromstring(r.text)"
     ],
     "language": "python",
     "metadata": {},
     "outputs": []
    },
    {
     "cell_type": "code",
     "collapsed": false,
     "input": [
      "url_stems = parsed.xpath(\"//dt/a[1]/@href\")\n",
      "df_list = []\n",
      "for url_stem in url_stems[20:25]:\n",
      "    dept = url_stem.split(\"=\")[1].split(\"&\")[0]\n",
      "    dept_df = url_to_dataframe(base+url_stem)\n",
      "    dept_df[\"Department\"] = dept\n",
      "    df_list.append(dept_df)\n",
      "overall_df = pd.concat(df_list)"
     ],
     "language": "python",
     "metadata": {},
     "outputs": []
    },
    {
     "cell_type": "code",
     "collapsed": false,
     "input": [
      "overall_df"
     ],
     "language": "python",
     "metadata": {},
     "outputs": []
    }
   ],
   "metadata": {}
  }
 ]
}