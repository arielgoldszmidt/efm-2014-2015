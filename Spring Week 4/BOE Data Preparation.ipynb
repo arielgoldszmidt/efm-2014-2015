{
 "cells": [
  {
   "cell_type": "code",
   "execution_count": 23,
   "metadata": {
    "collapsed": false
   },
   "outputs": [],
   "source": [
    "%matplotlib inline\n",
    "import pandas as pd\n",
    "import numpy as np\n",
    "import pickle"
   ]
  },
  {
   "cell_type": "code",
   "execution_count": 2,
   "metadata": {
    "collapsed": false
   },
   "outputs": [
    {
     "name": "stderr",
     "output_type": "stream",
     "text": [
      "/Users/zphang/Library/Enthought/Canopy_64bit/User/lib/python2.7/site-packages/pandas/io/parsers.py:1164: DtypeWarning: Columns (55) have mixed types. Specify dtype option on import or set low_memory=False.\n",
      "  data = self._reader.read(nrows)\n"
     ]
    }
   ],
   "source": [
    "df = pd.read_csv(\"nop.csv\")\n",
    "df = df[df.columns[0:113]]"
   ]
  },
  {
   "cell_type": "code",
   "execution_count": 3,
   "metadata": {
    "collapsed": false
   },
   "outputs": [
    {
     "data": {
      "text/plain": [
       "['uniq_id',\n",
       " 'id',\n",
       " 'sex',\n",
       " 'age',\n",
       " 'class',\n",
       " 'work',\n",
       " 'income',\n",
       " 'educ',\n",
       " 'sreg',\n",
       " 'tenure',\n",
       " 'q1',\n",
       " 'q2',\n",
       " 'q3',\n",
       " 'q4',\n",
       " 'q5',\n",
       " 'q6',\n",
       " 'q7',\n",
       " 'q8',\n",
       " 'q9a',\n",
       " 'q9b',\n",
       " 'q10',\n",
       " 'q11',\n",
       " 'q12',\n",
       " 'q13',\n",
       " 'q14',\n",
       " 'q1a',\n",
       " 'q1a2',\n",
       " 'q2a',\n",
       " 'q2a2',\n",
       " 'q2b',\n",
       " 'q2b1',\n",
       " 'q2b2',\n",
       " 'q2c',\n",
       " 'q2c1',\n",
       " 'q2c2',\n",
       " 'q2d_1',\n",
       " 'q2d_2',\n",
       " 'q2d_3',\n",
       " 'q2d_4',\n",
       " 'q2d_5',\n",
       " 'q2d_6',\n",
       " 'q2d_7',\n",
       " 'q2d_8',\n",
       " 'q3b',\n",
       " 'q3c',\n",
       " 'q1b_1',\n",
       " 'q1b_2',\n",
       " 'q1b_3',\n",
       " 'q1b_4',\n",
       " 'q1b_5',\n",
       " 'q1b_6',\n",
       " 'q1b_7',\n",
       " 'q15',\n",
       " 'q16',\n",
       " 'q1b_8',\n",
       " 'q12a',\n",
       " 'q17_1',\n",
       " 'q17_2',\n",
       " 'q17_3',\n",
       " 'q17_4',\n",
       " 'q17_5',\n",
       " 'q17_6',\n",
       " 'q17_7',\n",
       " 'q17_8',\n",
       " 'q18',\n",
       " 'q2e_1',\n",
       " 'q2e_2',\n",
       " 'q2e_3',\n",
       " 'q2e_4',\n",
       " 'q2e_5',\n",
       " 'q2e_6',\n",
       " 'q2e_7',\n",
       " 'q2e_8',\n",
       " 'q2e_9',\n",
       " 'q12a1',\n",
       " 'q12a2',\n",
       " 'q12a3',\n",
       " 'q12a4',\n",
       " 'q12a5',\n",
       " 'q12a6',\n",
       " 'q12a7',\n",
       " 'q12a8',\n",
       " 'q19',\n",
       " 'q20_1',\n",
       " 'q20_2',\n",
       " 'q20_3',\n",
       " 'q20_4',\n",
       " 'q20_5',\n",
       " 'q21',\n",
       " 'q21_1',\n",
       " 'q21_2',\n",
       " 'q21_3',\n",
       " 'q22',\n",
       " 'q23',\n",
       " 'q1b',\n",
       " 'q1c',\n",
       " 'q2a_agg',\n",
       " 'q2a_agg1',\n",
       " 'q2b_agg',\n",
       " 'q2b_agg1',\n",
       " 'q2c_agg',\n",
       " 'q2c_agg1',\n",
       " 'P',\n",
       " 'P_all',\n",
       " 'E1y',\n",
       " 'E1y_all',\n",
       " 'E2y',\n",
       " 'E2y_all',\n",
       " 'E5y',\n",
       " 'E5y_all',\n",
       " 'yyyyqq',\n",
       " 'timetrend',\n",
       " 'weight']"
      ]
     },
     "execution_count": 3,
     "metadata": {},
     "output_type": "execute_result"
    }
   ],
   "source": [
    "list(df.columns)"
   ]
  },
  {
   "cell_type": "code",
   "execution_count": 4,
   "metadata": {
    "collapsed": true
   },
   "outputs": [],
   "source": [
    "labels = {}\n",
    "f_name = {}\n",
    "\n",
    "labels[\"sex\"] = \"Male\",\"Female\"\n",
    "f_name[\"sex\"] = \"Sex\"\n",
    "\n",
    "labels[\"age\"] = \"15-24\",\"25-34\",\"35-44\",\"45-54\",\"55-64\",\">65\"\n",
    "f_name[\"age\"] = \"Age\"\n",
    "\n",
    "labels[\"work\"] = \"Full/Part\",\"Not Working\"\n",
    "f_name[\"work\"] = \"Employment\"\n",
    "\n",
    "labels[\"income\"] = \"<9500\",\"9500-17499\",\"17500-24999\",\">25000\"\n",
    "f_name[\"income\"] = \"Income (pounds)\"\n",
    "\n",
    "labels[\"educ\"] = \"Low (GCSE)\", \"Medium (A-Level)\", \"High (Degree)\"\n",
    "f_name[\"educ\"] = \"Education\"\n",
    "\n",
    "labels[\"sreg\"] = \"Scotland\",\"North\",\"Midlands\",\"Wales and West\",\"South East\"\n",
    "f_name[\"sreg\"] = \"Region\"\n",
    "\n",
    "labels[\"tenure\"] = \"Owned\",\"Mortage\",\"Council Rent\",\"Other\"\n",
    "f_name[\"tenure\"] = \"Home ownership\"\n",
    "\n",
    "labels[\"weight\"] = None\n",
    "f_name[\"weight\"] = \"Population Weight\""
   ]
  },
  {
   "cell_type": "code",
   "execution_count": 5,
   "metadata": {
    "collapsed": false
   },
   "outputs": [],
   "source": [
    "df[\"Year\"] = df[\"yyyyqq\"]//100\n",
    "df[\"Month\"] = df[\"yyyyqq\"]%100"
   ]
  },
  {
   "cell_type": "code",
   "execution_count": 6,
   "metadata": {
    "collapsed": true
   },
   "outputs": [],
   "source": [
    "def aggregate_change_ans(df, new_col, old_col, stem_col1, stem_col2):\n",
    "    df[new_col] = df[old_col]\n",
    "    new_col = new_col + \"_full\"\n",
    "    df[new_col] = df[old_col]    \n",
    "    df.loc[df[old_col]==9,new_col] = np.NaN\n",
    "    df.loc[df[old_col]!=9,new_col] = df[old_col]-2\n",
    "    df.loc[df[old_col]==8,new_col] = df[stem_col1][df[\"q1\"]==8]+4\n",
    "    df.loc[df[old_col]==1,new_col] = -df[stem_col2][df[\"q1\"]==1]"
   ]
  },
  {
   "cell_type": "code",
   "execution_count": 7,
   "metadata": {
    "collapsed": false
   },
   "outputs": [],
   "source": [
    "#### Question 1 ####\n",
    "\n",
    "## Q1a ##\n",
    "aggregate_change_ans(df, \"Q1\", \"q1\", \"q1a\",\"q1a2\")\n",
    "f_name[\"Q1\"] = \"Inflation (Past Year)\"\n",
    "labels[\"Q1\"] = (\"Gone Down\",\"Unchanged\",\"<1%\",\"1-2%\",\"2-3%\",\"3-4%\",\"4-5%\",\">5%\",\"No Idea\")\n",
    "f_name[\"Q1_full\"] = f_name[\"Q1\"]\n",
    "\n",
    "## Q1b ##\n",
    "inflation_categories = [\"Food\",\"Clothing\",\"Transport\",\"Energy\",\"Housing\",\n",
    "                        \"From Media\",\"From VAT Changes\",\"Other\"]\n",
    "impt_responses = [\"Very\",\"Fairly\",\"Not Very\",\n",
    "                  \"Not at all\",\"Don't Know\",\"Refused\"]\n",
    "for i in range(1,9):\n",
    "    df[\"Q1b_%d\"%i] = df[\"q1b_%d\"%i]\n",
    "    f_name[\"Q1b_%d\"%i] = \"%s Inflation\"%inflation_categories[i-1]"
   ]
  },
  {
   "cell_type": "code",
   "execution_count": 8,
   "metadata": {
    "collapsed": false
   },
   "outputs": [],
   "source": [
    "#### Question 2 ####\n",
    "\n",
    "## Q2 ##\n",
    "aggregate_change_ans(df, \"Q2\", \"q2\", \"q2a\", \"q2a2\")\n",
    "f_name[\"Q2\"] = \"Inflation (Next Year)\"\n",
    "labels[\"Q2\"] = labels[\"Q1\"]\n",
    "f_name[\"Q2_full\"] = f_name[\"Q2\"]\n",
    "\n",
    "## Q2b ##\n",
    "aggregate_change_ans(df, \"Q2b\", \"q2b\", \"q2b1\", \"q2b2\")\n",
    "f_name[\"Q2b\"] = \"Inflation (Year After)\"\n",
    "labels[\"Q2b\"] = labels[\"Q1\"]\n",
    "f_name[\"Q2b_full\"] = f_name[\"Q2b\"]\n",
    "\n",
    "## Q2c ##\n",
    "aggregate_change_ans(df, \"Q2c\", \"q2c\", \"q2c1\", \"q2c2\")\n",
    "f_name[\"Q2c\"] = \"Inflation (Next 5 Years)\"\n",
    "labels[\"Q2c\"] = labels[\"Q1\"]\n",
    "f_name[\"Q2c_full\"] = f_name[\"Q2c\"]\n",
    "\n",
    "## Q2d ##\n",
    "future_inflation_sources = [\"Shops (Last 6 mths)\",\"Shops (Last Year)\",\n",
    "                            \"Interest Rates\",\"Strength of Economy\",\n",
    "                            \"Inflation Target\",\"Inflation in Media\",\n",
    "                            \"VAT Changes\",\"Other\",\"Don't Know\"]\n",
    "for i in range(1,9):\n",
    "    df[\"Q2_d%d\"%i] = df[\"q2d_%d\"%i]\n",
    "    f_name[\"Q2_d%d\"%i] = \"Next Year Sentiment based on %s\"%future_inflation_sources[i-1]\n",
    "    \n",
    "## Q2e ##\n",
    "for i in range(1,10):\n",
    "    df[\"Q2_e%d\"%i] = df[\"q2e_%d\"%i]\n",
    "    f_name[\"Q2_e%d\"%i] = \"Long-Term Sentiment based on %s\"%future_inflation_sources[i-1]"
   ]
  },
  {
   "cell_type": "code",
   "execution_count": 9,
   "metadata": {
    "collapsed": true
   },
   "outputs": [],
   "source": [
    "#### Question 3 ####\n",
    "\n",
    "## Q3 ##\n",
    "df[\"Q3\"] = df[\"q3\"]\n",
    "f_name[\"Q3\"] = \"Economic strength given higher inflation\"\n",
    "labels[\"Q3\"] = \"Stronger\",\"Little Difference\",\"Weaker\",\"Don't Know\"\n",
    "\n",
    "## Q3b ##\n",
    "df[\"Q3b\"] = df[\"q3b\"]\n",
    "f_name[\"Q3b\"] = \"Perception of Government Inflation Target\"\n",
    "labels[\"Q3b\"] = [\"< 0.5%\",\"0.5-1.5%\",\"1.5-2.5%\",\"2.5-3.5%\",\n",
    "                 \"3.5-4.5%\",\">4.5%\",\"Don't Know\"]\n",
    "\n",
    "## Q3c ##\n",
    "df[\"Q3c\"] = df[\"q3c\"]\n",
    "f_name[\"Q3c\"] = \"Perception of Inflation target compared to previous target\"\n",
    "labels[\"Q3b\"] = \"Higher\",\"Lower\",\"Same\",\"Don't Know\""
   ]
  },
  {
   "cell_type": "code",
   "execution_count": 10,
   "metadata": {
    "collapsed": true
   },
   "outputs": [],
   "source": [
    "#### Question 4 - 8 ####\n",
    "\n",
    "## Q4 ##\n",
    "df[\"Q4\"] = df[\"q4\"]\n",
    "f_name[\"Q4\"] = \"Opinion on 2% Target\"\n",
    "labels[\"Q4\"] = \"Too High\", \"Too Low\",\" About Right\",\" No Idea\"\n",
    "\n",
    "## Q5 ##\n",
    "df[\"Q5\"] = df[\"q5\"]\n",
    "f_name[\"Q5\"] = \"Interest rates on Mortgages, Bank Loans and Savings\"\n",
    "labels[\"Q5\"] = [\"Risen a lot\",\"Risen a little\",\"About the same\",\n",
    "                \"Fallen a little\",\"Fallen a lot\",\"No Idea\"]\n",
    "\n",
    "## Q6 ##\n",
    "df[\"Q6\"] = df[\"q6\"]\n",
    "f_name[\"Q6\"] = \"Expected Future Change in Interest Rates\"\n",
    "labels[\"Q6\"] = labels[\"Q5\"]\n",
    "\n",
    "## Q7 ##\n",
    "df[\"Q7\"] = df[\"q7\"]\n",
    "f_name[\"Q7\"] = \"Best Interest Rate Policy for Economy\"\n",
    "labels[\"Q7\"] = \"Go up\",\"Go down\",\"Stay\",\"No Difference\",\"No Idea\"\n",
    "\n",
    "## Q8 ##\n",
    "df[\"Q8\"] = df[\"q8\"]\n",
    "f_name[\"Q8\"] = \"Best Interest Rate Policy for yourself\"\n",
    "labels[\"Q8\"] = labels[\"Q7\"]"
   ]
  },
  {
   "cell_type": "code",
   "execution_count": 11,
   "metadata": {
    "collapsed": false
   },
   "outputs": [],
   "source": [
    "#### Question 9 ####\n",
    "agreement_responses = [\"Strongly Agree\",\"Agree\",\"Neither\",\n",
    "                       \"Disagree\",\"Strongly Disagree\",\"Don't Know\"]\n",
    "\n",
    "## Q9 ##\n",
    "df[\"Q9\"] = df[\"q9a\"]\n",
    "f_name[\"Q9\"] = \"Rise in IR will slow price rises in the short term\"\n",
    "labels[\"Q9\"] = agreement_responses\n",
    "\n",
    "## Q9b ##\n",
    "df[\"Q9b\"] = df[\"q9b\"]\n",
    "f_name[\"Q9b\"] = \"Rise in IR will slow price rises in the long term\"\n",
    "labels[\"Q9b\"] = agreement_responses"
   ]
  },
  {
   "cell_type": "code",
   "execution_count": 12,
   "metadata": {
    "collapsed": true
   },
   "outputs": [],
   "source": [
    "#### Question 10 - 11 ####\n",
    "\n",
    "## Q10 ##\n",
    "df[\"Q10\"] = df[\"q10\"]\n",
    "f_name[\"Q10\"] = \"Higher Interest or Inflation\"\n",
    "labels[\"Q10\"] = \"Raise Interest Rates\",\"Faster Inflation\",\"No Idea\"\n",
    "\n",
    "## Q11 ##\n",
    "df[\"Q11\"] = df[\"q11\"]\n",
    "f_name[\"Q11\"] = \"Who sets Britain's basic Interest Rates every month?\"\n",
    "labels[\"Q11\"] = [\"Monetary Policy Committee\",\"Bank of England\",\"Government\",\n",
    "                 \"Treasury\",\"Parliament\",\"Other\",\"Don't Know\"]\n",
    "\n",
    "## Q12 ##\n",
    "df[\"Q12\"] = df[\"q12\"]\n",
    "f_name[\"Q12\"] = \"Who sets Britain's interest rates?\"\n",
    "labels[\"Q12\"] = [\"Ministers\",\"Civil Servants\",\"Bank of England\",\n",
    "                 \"High street banks\",\"ECB\",\"No Idea\"]\n",
    "\n",
    "## Q12a ##\n",
    "df[\"Q12a\"] = df[\"q12a\"]\n",
    "f_name[\"Q12a\"] = \"Sources of info on BoE\"\n",
    "labels[\"Q12a\"] = [\"Newspapers and Magazines\",\"TV and Radio\",\"BoE Website\",\n",
    "                  \"Other websites/Search\",\"BoE Publications\",\"BoE's public enquiries desk\",\n",
    "                  \"None of these\",\"Don't Know\"]\n",
    "\n",
    "## Q13 ##\n",
    "df[\"Q13\"] = df[\"q13\"]\n",
    "f_name[\"Q13\"] = \"What is the Monetary policy Committee?\"\n",
    "labels[\"Q13\"] = [\"Part of Government\",\"A quango, wholly appointed by the government\",\n",
    "                 \"An independent body partly appointed by the government\",\n",
    "                 \"A completely independent body\",\"No idea\"]\n",
    "\n",
    "## Q14 ##\n",
    "df[\"Q14\"] = df[\"q14\"]\n",
    "f_name[\"Q14\"] = \"Satisfaction with BoE's interest policy in controlling inflation\"\n",
    "labels[\"Q14\"] = [\"Very satisfied\",\"Fairly satisfied\",\"Neither\",\n",
    "                 \"Fairly dissatisfied\",\"Very dissatisfied\",\"No idea\"]\n",
    "\n",
    "## Q15 ##\n",
    "df[\"Q15\"] = df[\"q15\"]\n",
    "f_name[\"Q15\"] = \"Knowledge about QE\"\n",
    "labels[\"Q15\"] = [\"A lot\",\"A little\",\"Not at all\"]\n",
    "\n",
    "## Q16 ##\n",
    "df[\"Q16\"] = df[\"q16\"]\n",
    "f_name[\"Q16\"] = \"Expected Impact of QE on prices\"\n",
    "labels[\"Q16\"] = [\"Rise more\",\"Rise less\",\"No change\",\"Don't know\"]"
   ]
  },
  {
   "cell_type": "code",
   "execution_count": 13,
   "metadata": {
    "collapsed": true
   },
   "outputs": [],
   "source": [
    "#### Question 17 ####\n",
    "responses_to_inflation = [\"Bring forward major purchaes\",\"Save more\",\n",
    "                          \"Shop for better value\",\"Push for higher pay\",\n",
    "                          \"Look to increase income in other ways\",\n",
    "                          \"Move savings out of banks to other investments\",\n",
    "                          \"Other\",\"No action\"]\n",
    "\n",
    "for i in range(1,9):\n",
    "    df[\"Q17_%d\"%i] = df[\"q17_%d\"%i]\n",
    "    f_name[\"Q17_%d\"%i] = \"%s (Due to Expected Price Changes)\"%responses_to_inflation[i-1]"
   ]
  },
  {
   "cell_type": "code",
   "execution_count": 14,
   "metadata": {
    "collapsed": true
   },
   "outputs": [],
   "source": [
    "#### Question 18 - 19 ####\n",
    "\n",
    "## Q18 ##\n",
    "df[\"Q18\"] = df[\"q18\"]\n",
    "f_name[\"Q18\"] = \"Confidence in inflation hitting target\"\n",
    "labels[\"Q18\"] = [\">50%\",\"~50%\",\"~25%\",\"<25%\",\"Don't know\"]\n",
    "\n",
    "## Q19 ##\n",
    "df[\"Q19\"] = df[\"q19\"]\n",
    "f_name[\"Q19\"] = \"Why did the MPC increase asset purchases in 2011/8 and 2012/2\"\n",
    "labels[\"Q19\"] = [\"Stop inflation falling below target in the future\",\n",
    "                 \"Increase access to finance for companies and/or households\",\n",
    "                 \"Increase confidence in the economy\",\n",
    "                 \"Support the UK government\", \"Support the UK banking system\",\n",
    "                 \"None of these\", \"Don't know\"]"
   ]
  },
  {
   "cell_type": "code",
   "execution_count": 15,
   "metadata": {
    "collapsed": true
   },
   "outputs": [],
   "source": [
    "#### Question 20 ####\n",
    "wont_push_for_more_pay = [\"Not in position to influence pay\",\n",
    "                          \"Afraid of losing job\",\n",
    "                          \"Employer not in position to raise pay\",\n",
    "                          \"Other\",\"Don't know\"]\n",
    "\n",
    "for i in range(1,6):\n",
    "    df[\"Q20_%d\"%i] = df[\"q20_%d\"%i]\n",
    "    f_name[\"Q20_%d\"%i] = \"Won't push for higher pay because %s\"%wont_push_for_more_pay[i-1]"
   ]
  },
  {
   "cell_type": "code",
   "execution_count": 16,
   "metadata": {
    "collapsed": true
   },
   "outputs": [],
   "source": [
    "#### Question 21 ####\n",
    "\n",
    "expected_interest = [\"0-1%\",\"1-2%\",\"2-3%\",\"3-4%\",\n",
    "                     \"4-5%\",\">5%\"]\n",
    "\n",
    "## Q21 ##\n",
    "df[\"Q21\"] = df[\"q21\"]\n",
    "f_name[\"Q21\"] = \"Read report on latest CPI\"\n",
    "labels[\"Q21\"] = [\"Yes\",\"No\"]\n",
    "\n",
    "## Q21_1 ##\n",
    "df[\"Q21_1\"] = df[\"q21_1\"]\n",
    "f_name[\"Q2_1\"] = \"Expected Interest in 1 Year\"\n",
    "labels[\"Q2_11\"] = expected_interest\n",
    "\n",
    "## Q21_2 ##\n",
    "df[\"Q21_2\"] = df[\"q21_2\"]\n",
    "f_name[\"Q21_2\"] = \"Expected Interest in 2 Years\"\n",
    "labels[\"Q21_2\"] = expected_interest\n",
    "\n",
    "## Q21_3 ##\n",
    "df[\"Q21_3\"] = df[\"q21_3\"]\n",
    "f_name[\"Q21_3\"] = \"Expected Interest in 3 Years\"\n",
    "labels[\"Q21_3\"] = expected_interest"
   ]
  },
  {
   "cell_type": "code",
   "execution_count": 17,
   "metadata": {
    "collapsed": true
   },
   "outputs": [],
   "source": [
    "#### Question 22 - 23####\n",
    "\n",
    "## Q22 ##\n",
    "df[\"Q22\"] = df[\"q22\"]\n",
    "f_name[\"Q22\"] = \"Expected House Prices in 1 Year\"\n",
    "labels[\"Q22\"] = [\"Go down\",\"No Change\",\n",
    "                 \"Rise <5%\",\"Rise 5-10%\",\"Rise 10-15%\",\n",
    "                 \"Rise 15-20%\",\"Rise >20%\",\"No Idea\"]\n",
    "\n",
    "## Q23 ##\n",
    "df[\"Q23\"] = df[\"q23\"]\n",
    "f_name[\"Q23\"] = \"Response to 10% rise in house prices\"\n",
    "labels[\"Q23\"] = [\"Spend more\",\"Spend less\",\"Not change\",\"Don't Know\"]"
   ]
  },
  {
   "cell_type": "code",
   "execution_count": 19,
   "metadata": {
    "collapsed": false
   },
   "outputs": [
    {
     "name": "stdout",
     "output_type": "stream",
     "text": [
      "['uniq_id', 'id', 'sex', 'age', 'class', 'work', 'income', 'educ', 'sreg', 'tenure', 'q1', 'q2', 'q3', 'q4', 'q5', 'q6', 'q7', 'q8', 'q9a', 'q9b', 'q10', 'q11', 'q12', 'q13', 'q14', 'q1a', 'q1a2', 'q2a', 'q2a2', 'q2b', 'q2b1', 'q2b2', 'q2c', 'q2c1', 'q2c2', 'q2d_1', 'q2d_2', 'q2d_3', 'q2d_4', 'q2d_5', 'q2d_6', 'q2d_7', 'q2d_8', 'q3b', 'q3c', 'q1b_1', 'q1b_2', 'q1b_3', 'q1b_4', 'q1b_5', 'q1b_6', 'q1b_7', 'q15', 'q16', 'q1b_8', 'q12a', 'q17_1', 'q17_2', 'q17_3', 'q17_4', 'q17_5', 'q17_6', 'q17_7', 'q17_8', 'q18', 'q2e_1', 'q2e_2', 'q2e_3', 'q2e_4', 'q2e_5', 'q2e_6', 'q2e_7', 'q2e_8', 'q2e_9', 'q12a1', 'q12a2', 'q12a3', 'q12a4', 'q12a5', 'q12a6', 'q12a7', 'q12a8', 'q19', 'q20_1', 'q20_2', 'q20_3', 'q20_4', 'q20_5', 'q21', 'q21_1', 'q21_2', 'q21_3', 'q22', 'q23', 'q1b', 'q1c', 'q2a_agg', 'q2a_agg1', 'q2b_agg', 'q2b_agg1', 'q2c_agg', 'q2c_agg1', 'P', 'P_all', 'E1y', 'E1y_all', 'E2y', 'E2y_all', 'E5y', 'E5y_all', 'yyyyqq', 'timetrend', 'weight', 'Year', 'Month', 'Q1', 'Q1_full', 'Q1b_1', 'Q1b_2', 'Q1b_3', 'Q1b_4', 'Q1b_5', 'Q1b_6', 'Q1b_7', 'Q1b_8', 'Q2', 'Q2_full', 'Q2b', 'Q2b_full', 'Q2c', 'Q2c_full', 'Q2_d1', 'Q2_d2', 'Q2_d3', 'Q2_d4', 'Q2_d5', 'Q2_d6', 'Q2_d7', 'Q2_d8', 'Q2_e1', 'Q2_e2', 'Q2_e3', 'Q2_e4', 'Q2_e5', 'Q2_e6', 'Q2_e7', 'Q2_e8', 'Q2_e9', 'Q3', 'Q3b', 'Q3c', 'Q4', 'Q5', 'Q6', 'Q7', 'Q8', 'Q9', 'Q9b', 'Q10', 'Q11', 'Q12', 'Q12a', 'Q13', 'Q14', 'Q15', 'Q16', 'Q17_1', 'Q17_2', 'Q17_3', 'Q17_4', 'Q17_5', 'Q17_6', 'Q17_7', 'Q17_8', 'Q18', 'Q19', 'Q20_1', 'Q20_2', 'Q20_3', 'Q20_4', 'Q20_5', 'Q21', 'Q21_1', 'Q21_2', 'Q21_3', 'Q22', 'Q23']\n"
     ]
    }
   ],
   "source": [
    "print list(df.columns)"
   ]
  },
  {
   "cell_type": "code",
   "execution_count": 20,
   "metadata": {
    "collapsed": true
   },
   "outputs": [],
   "source": [
    "new_columns = ['uniq_id', 'id', \n",
    "               'sex', 'age', 'class', 'work', 'income', 'educ', 'sreg', 'tenure', \n",
    "               'yyyyqq', 'timetrend', 'weight', 'Year', 'Month', \n",
    "               'Q1', 'Q1_full', \n",
    "               'Q1b_1', 'Q1b_2', 'Q1b_3', 'Q1b_4', 'Q1b_5', 'Q1b_6', 'Q1b_7', 'Q1b_8', \n",
    "               'Q2', 'Q2_full', 'Q2b', 'Q2b_full', 'Q2c', 'Q2c_full', \n",
    "               'Q2_d1', 'Q2_d2', 'Q2_d3', 'Q2_d4', 'Q2_d5', 'Q2_d6', 'Q2_d7', 'Q2_d8', \n",
    "               'Q2_e1', 'Q2_e2', 'Q2_e3', 'Q2_e4', 'Q2_e5', 'Q2_e6', 'Q2_e7', 'Q2_e8', 'Q2_e9', \n",
    "               'Q3', 'Q3b', 'Q3c', 'Q4', 'Q5', 'Q6', 'Q7', 'Q8', 'Q9', 'Q9b', 'Q10', 'Q11', \n",
    "               'Q12', 'Q12a', 'Q13', 'Q14', 'Q15', 'Q16', \n",
    "               'Q17_1', 'Q17_2', 'Q17_3', 'Q17_4', 'Q17_5', 'Q17_6', 'Q17_7', 'Q17_8', \n",
    "               'Q18', 'Q19', 'Q20_1', 'Q20_2', 'Q20_3', 'Q20_4', 'Q20_5', \n",
    "               'Q21', 'Q21_1', 'Q21_2', 'Q21_3', 'Q22', 'Q23']"
   ]
  },
  {
   "cell_type": "code",
   "execution_count": 41,
   "metadata": {
    "collapsed": true
   },
   "outputs": [],
   "source": [
    "df2 = df[new_columns]\n",
    "df2.to_pickle(\"boe_inflation_data.dat\")"
   ]
  },
  {
   "cell_type": "code",
   "execution_count": 42,
   "metadata": {
    "collapsed": true
   },
   "outputs": [],
   "source": [
    "save_obj = {\"Labels\":labels,\n",
    "            \"Full Names\":f_name}\n",
    "\n",
    "save_f = open(\"boe_inflation_data_labels.dat\",\"w\")\n",
    "pickle.dump(save_obj, save_f)\n",
    "save_f.close()"
   ]
  },
  {
   "cell_type": "code",
   "execution_count": null,
   "metadata": {
    "collapsed": true
   },
   "outputs": [],
   "source": []
  }
 ],
 "metadata": {
  "kernelspec": {
   "display_name": "Python 2",
   "language": "python",
   "name": "python2"
  },
  "language_info": {
   "codemirror_mode": {
    "name": "ipython",
    "version": 2
   },
   "file_extension": ".py",
   "mimetype": "text/x-python",
   "name": "python",
   "nbconvert_exporter": "python",
   "pygments_lexer": "ipython2",
   "version": "2.7.6"
  }
 },
 "nbformat": 4,
 "nbformat_minor": 0
}
