{
 "cells": [
  {
   "cell_type": "markdown",
   "metadata": {
    "slideshow": {
     "slide_type": "slide"
    }
   },
   "source": [
    "# EFM: Spring Quarter\n",
    "## Week 3\n",
    "\n",
    "(Jason Phang, Zachry Wang, Allan Zhang)"
   ]
  },
  {
   "cell_type": "markdown",
   "metadata": {
    "slideshow": {
     "slide_type": "slide"
    }
   },
   "source": [
    "### Welcome back!"
   ]
  },
  {
   "cell_type": "markdown",
   "metadata": {
    "slideshow": {
     "slide_type": "fragment"
    }
   },
   "source": [
    "This quarter, we'll be meeting at:\n",
    "\n",
    ">** Wednesdays **\n",
    "    \n",
    ">** 4.30 - 5.30pm**\n",
    "    \n",
    ">** RY-276**"
   ]
  },
  {
   "cell_type": "markdown",
   "metadata": {
    "slideshow": {
     "slide_type": "slide"
    }
   },
   "source": [
    "The GitHub page will also contain the latest information about EFM Meetings:\n",
    "\n",
    "> https://github.com/zphang/efm-2014-2015"
   ]
  },
  {
   "cell_type": "markdown",
   "metadata": {
    "slideshow": {
     "slide_type": "slide"
    }
   },
   "source": [
    "### Itinerary for today"
   ]
  },
  {
   "cell_type": "markdown",
   "metadata": {
    "slideshow": {
     "slide_type": "fragment"
    }
   },
   "source": [
    "* Annual Allocations\n",
    "* Trading Competition\n",
    "* Competitions"
   ]
  },
  {
   "cell_type": "markdown",
   "metadata": {
    "slideshow": {
     "slide_type": "slide"
    }
   },
   "source": [
    "## Annual Allocations"
   ]
  },
  {
   "cell_type": "markdown",
   "metadata": {
    "slideshow": {
     "slide_type": "subslide"
    }
   },
   "source": [
    "* Annual Allocations will be due in a month"
   ]
  },
  {
   "cell_type": "markdown",
   "metadata": {
    "slideshow": {
     "slide_type": "fragment"
    }
   },
   "source": [
    "* Two remaining things we need to purchase: Amazon EC2 Credits, and \\$500 of Financial Data"
   ]
  },
  {
   "cell_type": "markdown",
   "metadata": {
    "slideshow": {
     "slide_type": "fragment"
    }
   },
   "source": [
    "* Please let me know if you know of financial data that costs \\$500\n",
    "    * Otherwise I'll randomly buy ticker data for future use"
   ]
  },
  {
   "cell_type": "markdown",
   "metadata": {
    "slideshow": {
     "slide_type": "slide"
    }
   },
   "source": [
    "## Trading Competition"
   ]
  },
  {
   "cell_type": "markdown",
   "metadata": {
    "slideshow": {
     "slide_type": "subslide"
    }
   },
   "source": [
    "* The other thing we have to spend money on is our annual trading/modeling competition"
   ]
  },
  {
   "cell_type": "markdown",
   "metadata": {
    "slideshow": {
     "slide_type": "fragment"
    }
   },
   "source": [
    "* We need to spend about \\$750 on this. (We can probably cut this down)"
   ]
  },
  {
   "cell_type": "markdown",
   "metadata": {
    "slideshow": {
     "slide_type": "subslide"
    }
   },
   "source": [
    "* Last year we just ran cases in the Quantopian platform (https://www.quantopian.com)"
   ]
  },
  {
   "cell_type": "markdown",
   "metadata": {
    "slideshow": {
     "slide_type": "fragment"
    }
   },
   "source": [
    "* We can do any number of things this year (but we need to do at least one):\n",
    "    * Trading competition (Probably algorithmic)\n",
    "    * Modeling competition (e.g. Oeconomica's Econometrics game)\n",
    "    * Other machine-learning-ish/data-driven competitions (on this later)"
   ]
  },
  {
   "cell_type": "markdown",
   "metadata": {
    "slideshow": {
     "slide_type": "subslide"
    }
   },
   "source": [
    "Please let me know if you have any ideas!"
   ]
  },
  {
   "cell_type": "markdown",
   "metadata": {
    "slideshow": {
     "slide_type": "slide"
    }
   },
   "source": [
    "## Competitions"
   ]
  },
  {
   "cell_type": "markdown",
   "metadata": {
    "slideshow": {
     "slide_type": "subslide"
    }
   },
   "source": [
    "* This quarter, we're going to focus on participating in competitions\n",
    "\n",
    "* It'll be a good chance to apply the stats/Python we've covered, as well as to draw from your own areas of expertise/interest\n",
    "\n",
    "* Sign up for at least one!"
   ]
  },
  {
   "cell_type": "markdown",
   "metadata": {
    "slideshow": {
     "slide_type": "subslide"
    }
   },
   "source": [
    "### Kaggle\n",
    "\n",
    "http://www.kaggle.com/competitions"
   ]
  },
  {
   "cell_type": "markdown",
   "metadata": {
    "slideshow": {
     "slide_type": "fragment"
    }
   },
   "source": [
    "* Pure machine-learning competitions\n",
    "* Some with prize money, other just for fun\n",
    "* E.g. \n",
    "    * Restaurant revenue prediction\n",
    "    * Product classification\n",
    "    * Predicting survivors on the Titanic"
   ]
  },
  {
   "cell_type": "markdown",
   "metadata": {
    "slideshow": {
     "slide_type": "fragment"
    }
   },
   "source": [
    "* Good intro to machine learning/statistics competitions\n",
    "* Sometimes you luck out and win"
   ]
  },
  {
   "cell_type": "markdown",
   "metadata": {
    "slideshow": {
     "slide_type": "subslide"
    }
   },
   "source": [
    "### Bank of England Data Visualization\n",
    "\n",
    "* http://www.bankofengland.co.uk/research/Pages/onebank/dataviscomp.aspx"
   ]
  },
  {
   "cell_type": "markdown",
   "metadata": {
    "slideshow": {
     "slide_type": "fragment"
    }
   },
   "source": [
    "* Very open-ended: ** Visualize some of their data and say something interesting **\n",
    "* Due 1st of May\n",
    "* There's prize money\n",
    "    * But the prize presentation ceremony is in the UK...\n",
    "* Will be a good introduction to visualization tools"
   ]
  },
  {
   "cell_type": "markdown",
   "metadata": {
    "slideshow": {
     "slide_type": "subslide"
    }
   },
   "source": [
    "### Quantopian Open\n",
    "\n",
    "* https://www.quantopian.com/open"
   ]
  },
  {
   "cell_type": "markdown",
   "metadata": {
    "slideshow": {
     "slide_type": "fragment"
    }
   },
   "source": [
    "* Algorithmic trading competition (in Python)\n",
    "* Winner's algorithm gets to trade \\$100,000 of their money, and keep the profits\n",
    "* Run monthly (next submission is on 1st of May)\n",
    "* Will probably look good for finance/trading interviews"
   ]
  },
  {
   "cell_type": "markdown",
   "metadata": {
    "slideshow": {
     "slide_type": "slide"
    }
   },
   "source": [
    "## To do:"
   ]
  },
  {
   "cell_type": "markdown",
   "metadata": {
    "slideshow": {
     "slide_type": "fragment"
    }
   },
   "source": [
    "* Send me ideas for what to spend \\$500 on\n",
    "* Send me ideas for our competition this year\n",
    "* Sign up for at least one of the competitions\n",
    "\n",
    "> https://docs.google.com/spreadsheets/d/1sMQWNuGhHLHxaHwgfuzPXSgPt52U_wUJu5bCgoMxPJ0/edit?usp=sharing"
   ]
  },
  {
   "cell_type": "markdown",
   "metadata": {
    "slideshow": {
     "slide_type": "slide"
    }
   },
   "source": [
    "## See you next Wednesday!"
   ]
  }
 ],
 "metadata": {
  "celltoolbar": "Slideshow",
  "kernelspec": {
   "display_name": "Python 2",
   "language": "python",
   "name": "python2"
  },
  "language_info": {
   "codemirror_mode": {
    "name": "ipython",
    "version": 2
   },
   "file_extension": ".py",
   "mimetype": "text/x-python",
   "name": "python",
   "nbconvert_exporter": "python",
   "pygments_lexer": "ipython2",
   "version": "2.7.6"
  }
 },
 "nbformat": 4,
 "nbformat_minor": 0
}
