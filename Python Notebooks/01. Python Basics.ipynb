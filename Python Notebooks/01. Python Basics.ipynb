{
 "metadata": {
  "name": "",
  "signature": "sha256:e50037e83bd247b77ce1887895ea3d5617b4f63ad29b6d5856ad817fffc668c9"
 },
 "nbformat": 3,
 "nbformat_minor": 0,
 "worksheets": [
  {
   "cells": [
    {
     "cell_type": "markdown",
     "metadata": {},
     "source": [
      "Introduction to Python: 1. Python Basics\n",
      "============\n",
      "***\n",
      "I'm going to go BLAZINGLY fast here. This is better thought of as a recap than notes to learn Python from. Use it as a reference for basic syntaxes. That said, you *must* understand how every line of code in this document works. If you don't, ASK!"
     ]
    },
    {
     "cell_type": "markdown",
     "metadata": {},
     "source": [
      "##1.1 Strings and numbers##\n",
      "We can print, store and do operations on numbers like so:"
     ]
    },
    {
     "cell_type": "code",
     "collapsed": false,
     "input": [
      "print 1\n",
      "\n",
      "two = 1+1\n",
      "print two\n",
      "\n",
      "print 1+2"
     ],
     "language": "python",
     "metadata": {},
     "outputs": [
      {
       "output_type": "stream",
       "stream": "stdout",
       "text": [
        "1\n",
        "2\n",
        "3\n"
       ]
      }
     ],
     "prompt_number": 1
    },
    {
     "cell_type": "markdown",
     "metadata": {},
     "source": [
      "We can do similar things with strings:"
     ]
    },
    {
     "cell_type": "code",
     "collapsed": false,
     "input": [
      "print \"Hi\"\n",
      "str1 = \"Hello,\" + \" world\"\n",
      "print str1"
     ],
     "language": "python",
     "metadata": {},
     "outputs": [
      {
       "output_type": "stream",
       "stream": "stdout",
       "text": [
        "Hi\n",
        "Hello, world\n"
       ]
      }
     ],
     "prompt_number": 2
    },
    {
     "cell_type": "markdown",
     "metadata": {},
     "source": [
      "You can't, however, adds strings and numbers together willy-nilly. Instead, there are a couple workarounds for that."
     ]
    },
    {
     "cell_type": "code",
     "collapsed": false,
     "input": [
      "##The following line will cause an error\n",
      "##print \"One is \"+1\n",
      "\n",
      "print \"Two is \" + str(2)\n",
      "\n",
      "print \"Three is\",3\n",
      "\n",
      "print \"Four is %d\"%4      ## See Python documentation regarding string formatting\n",
      "\n",
      "print \"Five with 2 decimal places is %.2f\"%5"
     ],
     "language": "python",
     "metadata": {},
     "outputs": [
      {
       "output_type": "stream",
       "stream": "stdout",
       "text": [
        "Two is 2\n",
        "Three is 3\n",
        "Four is 4\n",
        "Five with 2 decimal places is 5.00\n"
       ]
      }
     ],
     "prompt_number": 3
    },
    {
     "cell_type": "markdown",
     "metadata": {},
     "source": [
      "To conclude: strings and numbers are completely different *types* of data. You'll encounter many types in future. Here's an easy way to check a type."
     ]
    },
    {
     "cell_type": "code",
     "collapsed": false,
     "input": [
      "an_integer = 5\n",
      "a_string = \"Bazooka\"\n",
      "print \"'\"+str(an_integer)+\"' is a \"+str(type(an_integer))\n",
      "print \"'\"+a_string+\"' is a \"+str(type(a_string))"
     ],
     "language": "python",
     "metadata": {},
     "outputs": [
      {
       "output_type": "stream",
       "stream": "stdout",
       "text": [
        "'5' is a <type 'int'>\n",
        "'Bazooka' is a <type 'str'>\n"
       ]
      }
     ],
     "prompt_number": 4
    },
    {
     "cell_type": "markdown",
     "metadata": {},
     "source": [
      "##1.2 Functions##\n",
      "Functions are processes or actions that you want to do repeatedly, packaged in a nice way. You can think of a function as a machine that takes some input (known as *arguments*) and returns some output (known as the *return* value). Not all functions have to return a value.\n",
      "\n",
      "Function definitions start with <code>def</code>, then the function name, then the list of arguments in paranthesis, then a colon. Subsequent lines that are indented are considered to be part of the function.\n",
      "\n",
      "(An important concept is whether you want to pass the argument to the function by-value or by-reference. In general, all atomic types (characters, numbers) are passed by value, whereas all others are passed by reference.)"
     ]
    },
    {
     "cell_type": "code",
     "collapsed": false,
     "input": [
      "def print_thrice(arg):\n",
      "    print arg\n",
      "    print arg\n",
      "    print arg\n",
      "    \n",
      "def add_quotes(str1):\n",
      "    return \"'\"+str1+\"'\"\n",
      "    \n",
      "def add_quotes_in_place(str1):\n",
      "    str1 = \"'\" + str1 + \"'\"\n",
      "    \n",
      "print_thrice(\"Hi\")\n",
      "\n",
      "str1 = \"Word\"\n",
      "print str1\n",
      "print add_quotes(str1)\n",
      "\n",
      "add_quotes_in_place(str1)\n",
      "print str1"
     ],
     "language": "python",
     "metadata": {},
     "outputs": [
      {
       "output_type": "stream",
       "stream": "stdout",
       "text": [
        "Hi\n",
        "Hi\n",
        "Hi\n",
        "Word\n",
        "'Word'\n",
        "Word\n"
       ]
      }
     ],
     "prompt_number": 5
    },
    {
     "cell_type": "markdown",
     "metadata": {},
     "source": [
      "You can provide multiple arguments to a function. You can also provide keyword and optional arguments. In providing a keyword argument, you give the specific argument-variable name and its corresponding value. Keyword arguments can be given out of order. Optional or default arguments are specified in the function header, and allow arguments to have default values, so they can be optionally supplied when called."
     ]
    },
    {
     "cell_type": "code",
     "collapsed": false,
     "input": [
      "def add(x,y):\n",
      "    return x+y\n",
      "\n",
      "def subtract(x,y):\n",
      "    return x-y\n",
      "\n",
      "print add(1,2)\n",
      "print subtract(5,3)\n",
      "print subtract(y=2,x=7)\n",
      "\n",
      "def greet(name, greeting=\"Hello\"):\n",
      "    print greeting+\", \"+name\n",
      "    \n",
      "greet(\"Bob\",\"Howdy\")\n",
      "greet(\"John\")\n",
      "greet(greeting=\"Ahoy\", name=\"Descartes\")"
     ],
     "language": "python",
     "metadata": {},
     "outputs": [
      {
       "output_type": "stream",
       "stream": "stdout",
       "text": [
        "3\n",
        "2\n",
        "5\n",
        "Howdy, Bob\n",
        "Hello, John\n",
        "Ahoy, Descartes\n"
       ]
      }
     ],
     "prompt_number": 6
    },
    {
     "cell_type": "markdown",
     "metadata": {},
     "source": [
      "##1.3 Lists, Tuples and Dictionaries##\n",
      "Lists, tuples and dictionaries are three key data structures in Python. \n",
      "\n",
      "### Lists ###\n",
      "\n",
      "Lists will be your workhorse data structure for most data analysis, until you progress to working in NumPy arrays or Pandas series. \n",
      "\n",
      "* Lists are an ordered collection data\n",
      "* Lists are constructed using square brackets e.g. <code>list_of_nums = [1,2,3]</code>\n",
      "* Lists are index by square brackets e.g. <code>print list_of_nums[1]</code>\n",
      "* Lists are 0-indexed, and negative indices count backwards\n",
      "* Lists can be extended (a key difference from arrays in most languages)\n",
      "* Lists can be empty\n",
      "* All functions called on lists are call-by-reference: any changes made to a list in a function will be reflected in future references to the list\n",
      "* Lists can be sliced in the following way: <code>[start_index:end_index]</code> or <code>[start_index:end_index:increment]</code>. Note that the increment can be negative. Providing an invalid index will lead to an error. Leaving either the start_index or end_index blank will cause it to default to the first or last item respectively\n",
      "* Look at Python's documentation for list-methods\n",
      "\n",
      "(<code>range(start_num,end_num)</code> is a convenient function for creating a list of integers from start_num to end_num, excluding end_num. start_num is optional and defaults to 0)"
     ]
    },
    {
     "cell_type": "code",
     "collapsed": false,
     "input": [
      "##List Examples\n",
      "\n",
      "list_of_nums = [0,1,2,3,4,5,6,7,8,9]\n",
      "print list_of_nums        # print the whole list\n",
      "print list_of_nums[0]     # prints the first element in the list\n",
      "print list_of_nums[-1]    # prints the last element in the list\n",
      "print len(list_of_nums)   # len takes a list and returns its length\n",
      "\n",
      "print \"\"\n",
      "\n",
      "print list_of_nums[2:8]      # print a part of the list\n",
      "print list_of_nums[2:]       # print from 3rd element to the end\n",
      "print list_of_nums[2:8:2]    # Same as the above, but only every other element\n",
      "print list_of_nums[8:2:-1]   # Same as the first, but backwards\n",
      "\n",
      "print \"\"\n",
      "\n",
      "list_of_nums[2] = -20     # replacing a member of the list\n",
      "print list_of_nums\n",
      "\n",
      "print \"\"\n",
      "\n",
      "list_of_nums.append(100)\n",
      "print list_of_nums\n",
      "\n",
      "print \"\"\n",
      "\n",
      "list_of_nums = list_of_nums + [1000,2000,3000]  # It is easy to concatenate two lists\n",
      "print list_of_nums\n",
      "\n",
      "def add_a_zero(list1):\n",
      "    # Lists submitted as arguments are passed-by-reference, \n",
      "    # so this function will modify the original list\n",
      "    list1.append(0)\n",
      "\n",
      "add_a_zero(list_of_nums)\n",
      "print list_of_nums"
     ],
     "language": "python",
     "metadata": {},
     "outputs": [
      {
       "output_type": "stream",
       "stream": "stdout",
       "text": [
        "[0, 1, 2, 3, 4, 5, 6, 7, 8, 9]\n",
        "0\n",
        "9\n",
        "10\n",
        "\n",
        "[2, 3, 4, 5, 6, 7]\n",
        "[2, 3, 4, 5, 6, 7, 8, 9]\n",
        "[2, 4, 6]\n",
        "[8, 7, 6, 5, 4, 3]\n",
        "\n",
        "[0, 1, -20, 3, 4, 5, 6, 7, 8, 9]\n",
        "\n",
        "[0, 1, -20, 3, 4, 5, 6, 7, 8, 9, 100]\n",
        "\n",
        "[0, 1, -20, 3, 4, 5, 6, 7, 8, 9, 100, 1000, 2000, 3000]\n",
        "[0, 1, -20, 3, 4, 5, 6, 7, 8, 9, 100, 1000, 2000, 3000, 0]\n"
       ]
      }
     ],
     "prompt_number": 7
    },
    {
     "cell_type": "markdown",
     "metadata": {},
     "source": [
      "###Tuples###\n",
      "\n",
      "Tuples, like lists, are a collection of objects, but they are very different in many respects\n",
      "\n",
      "1. A tuple can contain different types of elements\n",
      "2. Tuples are immutable (unchangeable). The length of a tuple cannot be changed, and neither can its elements\n",
      "3. When functions are called on tuples, they are pass-by-value.\n",
      "4. Tuples are constructed using paranthesis instead of square brackets (in the case of lists), but are index via square brackets just like lists. (There are some specific instances where you can construct tuples without any brackets at all.)\n",
      "\n",
      "Whether you should use lists or tuples depends on your task (and your own judgment). In general, you use lists for (modifiable and extensible) lists of data, and tuples for sets of data. If that doesn't make any sense, here is an example: You might use tuples for a pair of an opening and closing price. You will use lists to store a list of opening prices for every day in the month of June.\n",
      "\n",
      "Lastly, you can change between list and tuple types by using the <code>list</code> and <code>tuple</code> functions."
     ]
    },
    {
     "cell_type": "code",
     "collapsed": false,
     "input": [
      "daily_data_label = (\"Symbol\",\"Opening Price\",\"Closing Price\")\n",
      "daily_data = (\"MSFT\",30.0,30.5)\n",
      "\n",
      "print daily_data\n",
      "print daily_data[0]"
     ],
     "language": "python",
     "metadata": {},
     "outputs": [
      {
       "output_type": "stream",
       "stream": "stdout",
       "text": [
        "('MSFT', 30.0, 30.5)\n",
        "MSFT\n"
       ]
      }
     ],
     "prompt_number": 8
    },
    {
     "cell_type": "markdown",
     "metadata": {},
     "source": [
      "###Dictionaries###\n",
      "Dictionaries (dicts for short)are unsorted collection of items, each labeled with a \"key\". Keys can be any immutable type, e.g. integers, strings, even tuples. A single dictionary can have keys of multiple types. This makes them ideal for storing information based on names, or other non-integer objects such as dates. It is also incredibly easy to insert and remove items from dictionaries.\n",
      "\n",
      "1. Dicts are constructed using curly brackets, and indexed using square brackets\n",
      "2. Inserting an item into a dict is easy: just do <code>my_dict[\"New Key\"] = \"New Item\"</code>\n",
      "3. Dicts are slower than lists or tuples. Under the hood, Dicts are using a hash table to look up elements based on keys. For most simple computations, the difference in speed will be unnoticable, but in larger computations it can make a significant difference. Use lists for ordered things, and tuples for fixed-size things.\n",
      "4. Whenever you do something like print or iterate over a Dict, the order in which the elements are processed are, for all intents and purposes, random. Dicts are unordered, and you must never assume that they retain any order."
     ]
    },
    {
     "cell_type": "code",
     "collapsed": false,
     "input": [
      "heights = {}\n",
      "heights[\"Bob\"] = 100\n",
      "heights[\"Ann\"] = 110\n",
      "heights[\"Giant\"] = 1000\n",
      "print heights\n",
      "print heights[\"Ann\"]\n",
      "print heights.keys()  # This returns a list\n",
      "\n",
      "heights = {\"Bob\":100,\"Ann\":110,\"Giant\":1000}\n",
      "print heights"
     ],
     "language": "python",
     "metadata": {},
     "outputs": [
      {
       "output_type": "stream",
       "stream": "stdout",
       "text": [
        "{'Giant': 1000, 'Bob': 100, 'Ann': 110}\n",
        "110\n",
        "['Giant', 'Bob', 'Ann']\n",
        "{'Giant': 1000, 'Bob': 100, 'Ann': 110}\n"
       ]
      }
     ],
     "prompt_number": 9
    },
    {
     "cell_type": "markdown",
     "metadata": {},
     "source": [
      "##1.4 Conditionals and Loops##\n",
      "### If, else, elseif ###\n",
      "You can use <code>if</code> statements to allow your code to test for conditions."
     ]
    },
    {
     "cell_type": "code",
     "collapsed": false,
     "input": [
      "a = 2  # feel free to change this number to experiment\n",
      "\n",
      "if a%2 == 0:    #if a is even. Note that we use \"==\" for testing conditions, not \"=\"\n",
      "    print \"%d is even\"%a"
     ],
     "language": "python",
     "metadata": {},
     "outputs": [
      {
       "output_type": "stream",
       "stream": "stdout",
       "text": [
        "2 is even\n"
       ]
      }
     ],
     "prompt_number": 10
    },
    {
     "cell_type": "markdown",
     "metadata": {},
     "source": [
      "We can add <code>else</code> and <code>elif</code>(else if) clauses to make our conditional branches richer. <code>else</code> and <code>elif</code> are always optional, and the order always goes, if-elif-else. You can have any number of <code>elseif</code> clauses."
     ]
    },
    {
     "cell_type": "code",
     "collapsed": false,
     "input": [
      "a = 2  # feel free to change this number to experiment\n",
      "if a == 1:\n",
      "    print \"One\"\n",
      "elif a == 2:\n",
      "    print \"Two\"\n",
      "elif a == 3:\n",
      "    print \"Three\"\n",
      "else:\n",
      "    print \"I can't count that high\""
     ],
     "language": "python",
     "metadata": {},
     "outputs": [
      {
       "output_type": "stream",
       "stream": "stdout",
       "text": [
        "Two\n"
       ]
      }
     ],
     "prompt_number": 11
    },
    {
     "cell_type": "markdown",
     "metadata": {},
     "source": [
      "We can also add a combination of conditions using <code>and</code>,<code>not</code> and <code>or</code> operators, using paranthesis to group them. There is no exclusive-or operator unfortunately, but you can make your own using a combination of the others. \n",
      "\n",
      "(Also note that in the case of the <code>or</code> operator, the <code>if</code> clause will short-circuit e.g. if the first sub-condition is True, the Python interpreter will not even evaluate the subsequent sub-conditions. This is sometimes a useful property to prevent errors.)"
     ]
    },
    {
     "cell_type": "code",
     "collapsed": false,
     "input": [
      "a = 17  # feel free to change this number to experiment\n",
      "\n",
      "if (a>5 and a%2 == 1) or a == 17:\n",
      "    print \"YES\"\n",
      "else:\n",
      "    print \"NO\""
     ],
     "language": "python",
     "metadata": {},
     "outputs": [
      {
       "output_type": "stream",
       "stream": "stdout",
       "text": [
        "YES\n"
       ]
      }
     ],
     "prompt_number": 12
    },
    {
     "cell_type": "markdown",
     "metadata": {},
     "source": [
      "###While loop###\n",
      "Often we will want to perform a command repeatedly until some condition is fulfilled. For example, if we want to print every number starting from 100 until we find one that is divisible by 13, we can do the following:"
     ]
    },
    {
     "cell_type": "code",
     "collapsed": false,
     "input": [
      "i = 100\n",
      "while i%13 != 0:\n",
      "    print i\n",
      "    i+=1\n",
      "\n",
      "print \"%d is divisible by 13\"%i"
     ],
     "language": "python",
     "metadata": {},
     "outputs": [
      {
       "output_type": "stream",
       "stream": "stdout",
       "text": [
        "100\n",
        "101\n",
        "102\n",
        "103\n",
        "104 is divisible by 13\n"
       ]
      }
     ],
     "prompt_number": 13
    },
    {
     "cell_type": "markdown",
     "metadata": {},
     "source": [
      "There are two slightly more advanced modifications to while loops. <code>break</code> allows you to break out of a while loop immediately, while <code>continue</code> causes you to jump to the next iteration of the loop immediately. "
     ]
    },
    {
     "cell_type": "code",
     "collapsed": false,
     "input": [
      "# The same loop as above, written using break and continue\n",
      "# These may seem awkward, but they're supposed to be purely demonstrative\n",
      "\n",
      "i = 100\n",
      "while True:\n",
      "    if i%13 == 0:\n",
      "        break\n",
      "    print i\n",
      "    i += 1 \n",
      "print \"%d is divisible by 13\"%i\n",
      "\n",
      "print \"--\"\n",
      "\n",
      "i = 100\n",
      "while True:\n",
      "    if i%13 != 0:\n",
      "        print i\n",
      "        i += 1 \n",
      "        continue\n",
      "    print \"%d is divisible by 13\"%i\n",
      "    break"
     ],
     "language": "python",
     "metadata": {},
     "outputs": [
      {
       "output_type": "stream",
       "stream": "stdout",
       "text": [
        "100\n",
        "101\n",
        "102\n",
        "103\n",
        "104 is divisible by 13\n",
        "--\n",
        "100\n",
        "101\n",
        "102\n",
        "103\n",
        "104 is divisible by 13\n"
       ]
      }
     ],
     "prompt_number": 14
    },
    {
     "cell_type": "markdown",
     "metadata": {},
     "source": [
      "### For loop ###\n",
      "For-loops will probably be the loop you'll most commonly use. For-loops in python are completely different from for-loops in most other languages. In C/Java, for-loop are slightly more convenient versions of while-loops. In Python, for-loops are designed specifically to iterate over any iterable: this includes lists, tuples, and dicts.\n",
      "\n",
      "For dicts, for-loops will iterate over the keys of the dictionary, so if you want to get the values in the dictionary, you need to index them. the order in which the elements are iterated should be considered to be random.\n",
      "\n",
      "Like in the case of while-loops, you can use the <code>break</code> and <code>continue</code> expressions."
     ]
    },
    {
     "cell_type": "code",
     "collapsed": false,
     "input": [
      "for i in range(0,10):\n",
      "    print i"
     ],
     "language": "python",
     "metadata": {},
     "outputs": [
      {
       "output_type": "stream",
       "stream": "stdout",
       "text": [
        "0\n",
        "1\n",
        "2\n",
        "3\n",
        "4\n",
        "5\n",
        "6\n",
        "7\n",
        "8\n",
        "9\n"
       ]
      }
     ],
     "prompt_number": 36
    },
    {
     "cell_type": "code",
     "collapsed": false,
     "input": [
      "for i in range(100,10000):\n",
      "    if i%13 != 0:\n",
      "        print i\n",
      "    else:\n",
      "        print \"%d is divisible by 13\"%i\n",
      "        break"
     ],
     "language": "python",
     "metadata": {},
     "outputs": [
      {
       "output_type": "stream",
       "stream": "stdout",
       "text": [
        "100\n",
        "101\n",
        "102\n",
        "103\n",
        "104 is divisible by 13\n"
       ]
      }
     ],
     "prompt_number": 35
    },
    {
     "cell_type": "code",
     "collapsed": false,
     "input": [
      "heights = {\"Bob\":100,\"Ann\":110,\"Giant\":1000}\n",
      "for key in heights:\n",
      "    print \"%s is %d units tall\"%(key, heights[key])"
     ],
     "language": "python",
     "metadata": {},
     "outputs": [
      {
       "output_type": "stream",
       "stream": "stdout",
       "text": [
        "Giant is 1000 units tall\n",
        "Bob is 100 units tall\n",
        "Ann is 110 units tall\n"
       ]
      }
     ],
     "prompt_number": 34
    },
    {
     "cell_type": "markdown",
     "metadata": {},
     "source": [
      "##Exercises##\n",
      "\n",
      "1.1 Write a program that prints out a multiplication table. i.e.\n",
      "<pre>1*1 = 1\n",
      "1*2 = 2\n",
      "1*3 = 3</pre>\n",
      "\n",
      "And so on, for until 5*5. Do this using for-loops.\n",
      "\n",
      "1.2 Instead of writing a program that runs until 5*5, write a function that takes 2 arguments (X and Y), and have it run until X*Y\n",
      "\n",
      "2.1 Write a function that takes an argument X, and returns a dictionary where the keys are the numbers from 0 to X, and the values are $x^2$\n",
      "\n",
      "2.2 Look up \"dictionary comprehension\" in the Python documentation, and write your solution for 2.1 with your function only containing a single line of code.\n",
      "\n",
      "2.3 Same as 2.2, except the returned dictionary only contains keys that are even. The body of the function should still be one line of code.\n",
      "\n",
      "\n",
      "3.1 Write a \"power\" function. Given arguments X and Y, return $X^Y$\n",
      "\n",
      "3.2 Did you know that you can return functions in a function? Write a \"power_creator\" function, that takes in an argument Y, and return a function that takes an argument X and return $X^Y$. In other words, we can do something like this:\n",
      "<pre>square_it = power_creator(2)\n",
      "cube_it = power_creator(3)\n",
      "\n",
      "print square_it(5)        (This prints 25)\n",
      "print cube_it(10)         (This prints 1000)</pre>\n",
      "\n",
      "3.3 You can write \"anonymous\" functions, which are functions with no name that you just want to immediately run or pass around. Look up \"lambda expressions\" in the Python documentation, and write \"power_creator2\" to return an anonymous function."
     ]
    },
    {
     "cell_type": "markdown",
     "metadata": {},
     "source": [
      "4 Write a function that takes an argument $n$ and returns all prime numbers up to $n$. (Make use of loops!)"
     ]
    }
   ],
   "metadata": {}
  }
 ]
}