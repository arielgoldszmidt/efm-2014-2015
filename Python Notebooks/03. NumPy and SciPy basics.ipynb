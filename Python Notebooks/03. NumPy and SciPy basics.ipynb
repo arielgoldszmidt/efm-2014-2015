{
 "metadata": {
  "name": "03. NumPy and SciPy basics"
 },
 "nbformat": 3,
 "nbformat_minor": 0,
 "worksheets": [
  {
   "cells": [
    {
     "cell_type": "markdown",
     "metadata": {},
     "source": [
      "Introduction to Python: 3. NumPy and SciPy basics\n",
      "============\n",
      "***\n",
      "\n",
      "NumPy and SciPy are crucial libraries for data-analysis. \n",
      "\n",
      "NumPy provides the foundation for all data-analytical frameworks as it defines the data-types and functions that allows Python to process data quickly. NumPy makes extensive use of C code under the hood.\n",
      "\n",
      "SciPy is a large package of scientific computing tools, including statistical tools and machine learning tools. I've barely even started to skim the surface of what SciPy can do, so you should explore for yourselves. Also, if you installed Python manually and not via a pre-packaged version like EPD's or Anaconda, SciPy is terribly hard to install, because it enails lots of C and Fortran libraries that need to be manually compiled. For this reason, you should stick with pre-packaged versions of Python whenever you move to a new system, unless you really know what you're doing.\n",
      "\n",
      "For both NumPy and SciPy, I will simply cover what I think is useful - both libraries have a wealth of features that I've never used."
     ]
    },
    {
     "cell_type": "markdown",
     "metadata": {},
     "source": [
      "##NumPy##\n",
      "\n",
      "NumPy is a library build for speeding numerical computation. You usually need to install it as a separate module as it doesn't come packaged with Python, but the EPD package comes with it. Also, IPython always pre-imports it via the <code>from numpy import *</code>(this is a guess, I'm not sure if it imports every function), so you don't (rarely) need to manually import it or references functions via <code>numpy.SOMFUNCTION</code>.\n",
      "\n",
      "The basic workhorse data structure of NumPy is the array. Arrays are like lists in some senses: they contain an ordered, 0-index list of objects of the same type, and they can be indexed in exactly the same ways as a list can.\n",
      "\n",
      "However, the crucial difference between arrays and lists is that arrays are fixed-length. I believe they are build on C-style arrays under the hood. What that means is that you should never append things to an array - there is a function to do so, but what it does is basically copy the entire array into a new array one item longer, which is terrible inefficient.\n",
      "\n",
      "Like in the case of tuples, changing between arrays and lists is trivial."
     ]
    },
    {
     "cell_type": "code",
     "collapsed": false,
     "input": [
      "ls = range(10)\n",
      "print ls\n",
      "\n",
      "arr = array(ls)\n",
      "print arr\n",
      "\n",
      "print type(arr)\n",
      "print arr[3]\n",
      "print arr[::-1]"
     ],
     "language": "python",
     "metadata": {},
     "outputs": [
      {
       "output_type": "stream",
       "stream": "stdout",
       "text": [
        "[0, 1, 2, 3, 4, 5, 6, 7, 8, 9]\n",
        "[0 1 2 3 4 5 6 7 8 9]\n",
        "<type 'numpy.ndarray'>\n",
        "3\n",
        "[9 8 7 6 5 4 3 2 1 0]\n"
       ]
      }
     ],
     "prompt_number": 2
    },
    {
     "cell_type": "markdown",
     "metadata": {},
     "source": [
      "(You can also create multidimensional arrays i.e. matrices, but I won't be doing so, as we will rarely have a use for it, at least for now. If you are interested, you can look into <code>ndarray</code>)\n",
      "\n",
      "A big advantage of NumPy arrays is that you can easily do column.(or row, depending on how you look at it)-wise functions. For example, if you want to multiple every element in a list by two. In lists, you would need a loop, at at least list comprehension. In NumPy, you can simply treat it as if it were a number and perform a scalar operation on it."
     ]
    },
    {
     "cell_type": "code",
     "collapsed": false,
     "input": [
      "ls = range(10)\n",
      "arr = array(ls)\n",
      "print arr\n",
      "print arr*2\n",
      "print arr+1"
     ],
     "language": "python",
     "metadata": {},
     "outputs": [
      {
       "output_type": "stream",
       "stream": "stdout",
       "text": [
        "[0 1 2 3 4 5 6 7 8 9]\n",
        "[ 0  2  4  6  8 10 12 14 16 18]\n"
       ]
      }
     ],
     "prompt_number": 3
    },
    {
     "cell_type": "markdown",
     "metadata": {},
     "source": [
      "In general only numerical operations and NumPy functions can be used as scalar operations in this manner. All other functions will probably break. Wherever possible, use column-wise operations, because they are much, much faster.\n",
      "\n",
      "Another big benefit of NumPy is the ability to exploit Boolean arrays. As you might guess, we are able to create an array of Trues and Falses by directly running the whole array against some (scalar) condition/expression."
     ]
    },
    {
     "cell_type": "code",
     "collapsed": false,
     "input": [
      "arr = arange(10)   # short-cut for array of range\n",
      "is_even = arr%2 == 0\n",
      "print is_even"
     ],
     "language": "python",
     "metadata": {},
     "outputs": [
      {
       "output_type": "stream",
       "stream": "stdout",
       "text": [
        "[ True False  True False  True False  True False  True False]\n"
       ]
      }
     ],
     "prompt_number": 6
    },
    {
     "cell_type": "markdown",
     "metadata": {},
     "source": [
      "What's really brilliant is that you can index an array with a boolean array, and that filters out all the corresponding \"False\" elements."
     ]
    },
    {
     "cell_type": "code",
     "collapsed": false,
     "input": [
      "arr = arange(10)   # short-cut for array of range\n",
      "is_even = arr%2 == 0\n",
      "even = arr[is_even]\n",
      "print even"
     ],
     "language": "python",
     "metadata": {},
     "outputs": [
      {
       "output_type": "stream",
       "stream": "stdout",
       "text": [
        "[0 2 4 6 8]\n"
       ]
      }
     ],
     "prompt_number": 7
    },
    {
     "cell_type": "markdown",
     "metadata": {},
     "source": [
      "This will prove extremely useful in filtering data. Again, not all conditions can be directly applied column-wise. There are also functions such as <code>logical_or</code> and <code>logical_and</code> that are column-wise logical oeprations on the arrays."
     ]
    },
    {
     "cell_type": "markdown",
     "metadata": {},
     "source": [
      "##Exercises##\n",
      "\n",
      "1. <b><u>A smarter logical_and/or function</u></b>: I'm not sure why this doesn't exist in NumPy's library, considering how often one would use it. The problem with <code>logical_or</code> and <code>logical_and</code> is that it only takes in 2 NumPy arrays at a time. But what if you want to <code>and</code> across 10 boolean arrays at once? Create 2 functions that take in a list of boolean arrays, that run the <code>or</code> (or <code>and</code>) operation across all of them.\n",
      "2. <b><u>2-dimensional arrays</u></b>: So far, we have only worked with 1-dimensional arrays. NumPy can also handle n-dimensional arrays, though I tend to steer away from it since I prefer to use Pandas' Dataframes (another data structure we will learn about soon). That said, some functions require work with n-dimensional arrays, particularly those involving matrices. We'll just work with 2 dimensions. Write a function that takes in 2 arguments $X$ and $Y$, and returns and $X$-by-$Y$ multiplication tables in a 2d-Array. Experiment with indexing within the 2d-array.\n",
      "3. There is a function <code>hist2d</code> in matplotlib that generates a heatmap. Add an optional argument to your solution in (II) to also generate a heat map.\n",
      "4. We will now have a more efficient approach to finding prime numbers. Look up http://en.wikipedia.org/wiki/Sieve_of_Eratosthenes and implement the same algorithm. Write a fucntion take takes an argument <code>n</code>, and returns an array of all prime numbers up to n.\n",
      "5. There is a function <code>random.randn</code> that takes 2 arguments $X$ and $Y$ and gives and $X$-by-$Y$ matrix of random numbers. Make a function that generates a random $X$-by-$Y$ heat map."
     ]
    },
    {
     "cell_type": "code",
     "collapsed": false,
     "input": [
      "randn(7,3)"
     ],
     "language": "python",
     "metadata": {},
     "outputs": [
      {
       "output_type": "pyout",
       "prompt_number": 1,
       "text": [
        "array([[-1.8037604 ,  1.9797056 , -0.11104845],\n",
        "       [-2.30568632, -0.33805288, -0.17024923],\n",
        "       [ 1.44654806,  0.16460886, -0.6833319 ],\n",
        "       [-0.47898826, -1.08868133,  0.37095317],\n",
        "       [ 0.73271976,  0.88327063,  0.6428354 ],\n",
        "       [ 0.9462552 , -0.92551678,  0.15696999],\n",
        "       [ 0.12011212,  0.35512276,  0.72902347]])"
       ]
      }
     ],
     "prompt_number": 1
    },
    {
     "cell_type": "markdown",
     "metadata": {},
     "source": [
      "***\n",
      "Miscellaneous formatting code:"
     ]
    },
    {
     "cell_type": "code",
     "collapsed": false,
     "input": [
      "from IPython.core.display import HTML\n",
      "def css_styling():\n",
      "    styles = open(\"custom.css\", \"r\").read()\n",
      "    return HTML(styles)\n",
      "css_styling()"
     ],
     "language": "python",
     "metadata": {},
     "outputs": [
      {
       "html": [
        "<style>\n",
        "    @font-face {\n",
        "        font-family: \"Computer Modern\";\n",
        "        src: url('http://mirrors.ctan.org/fonts/cm-unicode/fonts/otf/cmunss.otf');\n",
        "    }\n",
        "    div.cell{\n",
        "        width:800px;\n",
        "        margin-left:auto;\n",
        "        margin-right:auto;\n",
        "    }\n",
        "    h1 {\n",
        "        font-family: \"Charis SIL\", Palatino, serif;\n",
        "    }\n",
        "    h4{\n",
        "        margin-top:12px;\n",
        "        margin-bottom: 3px;\n",
        "       }\n",
        "    div.text_cell_render{\n",
        "        font-family: Computer Modern, \"Helvetica Neue\", Arial, Helvetica, Geneva, sans-serif;\n",
        "        line-height: 145%;\n",
        "        font-size: 120%;\n",
        "        width:800px;\n",
        "        margin-left:auto;\n",
        "        margin-right:auto;\n",
        "    }\n",
        "    .CodeMirror{\n",
        "            font-family: \"Source Code Pro\", source-code-pro,Consolas, monospace;\n",
        "    }\n",
        "    .prompt{\n",
        "        display: None;\n",
        "    }\n",
        "    .text_cell_render h5 {\n",
        "        font-weight: 300;\n",
        "        font-size: 16pt;\n",
        "        color: #4057A1;\n",
        "        font-style: italic;\n",
        "        margin-bottom: .5em;\n",
        "        margin-top: 0.5em;\n",
        "        display: block;\n",
        "    }\n",
        "    \n",
        "    .warning{\n",
        "        color: rgb( 240, 20, 20 )\n",
        "        }\n",
        "</style>\n",
        "<script>\n",
        "    MathJax.Hub.Config({\n",
        "                        TeX: {\n",
        "                           extensions: [\"AMSmath.js\"]\n",
        "                           },\n",
        "                tex2jax: {\n",
        "                    inlineMath: [ ['$','$'], [\"\\\\(\",\"\\\\)\"] ],\n",
        "                    displayMath: [ ['$$','$$'], [\"\\\\[\",\"\\\\]\"] ]\n",
        "                },\n",
        "                displayAlign: 'center', // Change this to 'center' to center equations.\n",
        "                \"HTML-CSS\": {\n",
        "                    styles: {'.MathJax_Display': {\"margin\": 4}}\n",
        "                }\n",
        "        });\n",
        "</script>"
       ],
       "output_type": "pyout",
       "prompt_number": 2,
       "text": [
        "<IPython.core.display.HTML at 0x7b446b0>"
       ]
      }
     ],
     "prompt_number": 2
    }
   ],
   "metadata": {}
  }
 ]
}