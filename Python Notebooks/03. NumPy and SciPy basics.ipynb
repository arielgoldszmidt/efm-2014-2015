{
 "cells": [
  {
   "cell_type": "markdown",
   "metadata": {},
   "source": [
    "Introduction to Python: 3. NumPy and SciPy basics\n",
    "============\n",
    "***\n",
    "\n",
    "NumPy and SciPy are crucial libraries for data-analysis. \n",
    "\n",
    "NumPy provides the foundation for all data-analytical frameworks as it defines the data-types and functions that allows Python to process data quickly. NumPy makes extensive use of C code under the hood.\n",
    "\n",
    "SciPy is a large package of scientific computing tools, including statistical tools and machine learning tools. I've barely even started to skim the surface of what SciPy can do, so you should explore for yourselves. Also, if you installed Python manually and not via a pre-packaged version like EPD's or Anaconda, SciPy is terribly hard to install, because it enails lots of C and Fortran libraries that need to be manually compiled. For this reason, you should stick with pre-packaged versions of Python whenever you move to a new system, unless you really know what you're doing.\n",
    "\n",
    "For both NumPy and SciPy, I will simply cover what I think is useful - both libraries have a wealth of features that I've never used."
   ]
  },
  {
   "cell_type": "markdown",
   "metadata": {},
   "source": [
    "##NumPy##\n",
    "\n",
    "NumPy is a library build for speeding numerical computation. You usually need to install it as a separate module as it doesn't come packaged with Python, but the EPD package comes with it. Also, IPython always pre-imports it via the <code>from numpy import *</code>(this is a guess, I'm not sure if it imports every function), so you don't (rarely) need to manually import it or references functions via <code>numpy.SOMFUNCTION</code>.\n",
    "\n",
    "The basic workhorse data structure of NumPy is the array. Arrays are like lists in some senses: they contain an ordered, 0-index list of objects of the same type, and they can be indexed in exactly the same ways as a list can.\n",
    "\n",
    "However, the crucial difference between arrays and lists is that arrays are fixed-length. I believe they are build on C-style arrays under the hood. What that means is that you should never append things to an array - there is a function to do so, but what it does is basically copy the entire array into a new array one item longer, which is terrible inefficient.\n",
    "\n",
    "Like in the case of tuples, changing between arrays and lists is trivial."
   ]
  },
  {
   "cell_type": "code",
   "execution_count": 1,
   "metadata": {},
   "outputs": [
    {
     "name": "stdout",
     "output_type": "stream",
     "text": [
      "range(0, 10)\n",
      "[0 1 2 3 4 5 6 7 8 9]\n",
      "<class 'numpy.ndarray'>\n",
      "3\n",
      "[9 8 7 6 5 4 3 2 1 0]\n"
     ]
    }
   ],
   "source": [
    "import numpy as np\n",
    "\n",
    "ls = range(10)\n",
    "print(ls)\n",
    "\n",
    "arr = np.array(ls)\n",
    "print(arr)\n",
    "\n",
    "print(type(arr))\n",
    "print(arr[3])\n",
    "print(arr[::-1])"
   ]
  },
  {
   "cell_type": "markdown",
   "metadata": {},
   "source": [
    "(You can also create multidimensional arrays i.e. matrices, but I won't be doing so, as we will rarely have a use for it, at least for now. If you are interested, you can look into <code>ndarray</code>)\n",
    "\n",
    "A big advantage of NumPy arrays is that you can easily do column.(or row, depending on how you look at it)-wise functions. For example, if you want to multiple every element in a list by two. In lists, you would need a loop, at at least list comprehension. In NumPy, you can simply treat it as if it were a number and perform a scalar operation on it."
   ]
  },
  {
   "cell_type": "code",
   "execution_count": 2,
   "metadata": {},
   "outputs": [
    {
     "name": "stdout",
     "output_type": "stream",
     "text": [
      "[0 1 2 3 4 5 6 7 8 9]\n",
      "[ 0  2  4  6  8 10 12 14 16 18]\n",
      "[ 1  2  3  4  5  6  7  8  9 10]\n"
     ]
    }
   ],
   "source": [
    "import numpy as np\n",
    "\n",
    "ls = range(10)\n",
    "arr = np.array(ls)\n",
    "print(arr)\n",
    "print(arr*2)\n",
    "print(arr+1)"
   ]
  },
  {
   "cell_type": "markdown",
   "metadata": {},
   "source": [
    "In general only numerical operations and NumPy functions can be used as scalar operations in this manner. All other functions will probably break. Wherever possible, use column-wise operations, because they are much, much faster.\n",
    "\n",
    "Another big benefit of NumPy is the ability to exploit Boolean arrays. As you might guess, we are able to create an array of Trues and Falses by directly running the whole array against some (scalar) condition/expression."
   ]
  },
  {
   "cell_type": "code",
   "execution_count": 3,
   "metadata": {},
   "outputs": [
    {
     "name": "stdout",
     "output_type": "stream",
     "text": [
      "[ True False  True False  True False  True False  True False]\n"
     ]
    }
   ],
   "source": [
    "import numpy as np\n",
    "\n",
    "arr = np.arange(10)   # short-cut for array of range\n",
    "is_even = arr%2 == 0\n",
    "print(is_even)"
   ]
  },
  {
   "cell_type": "markdown",
   "metadata": {},
   "source": [
    "What's really brilliant is that you can index an array with a boolean array, and that filters out all the corresponding \"False\" elements."
   ]
  },
  {
   "cell_type": "code",
   "execution_count": 4,
   "metadata": {},
   "outputs": [
    {
     "name": "stdout",
     "output_type": "stream",
     "text": [
      "[0 3 6 9]\n",
      "[ True False False  True False False  True False False  True]\n"
     ]
    }
   ],
   "source": [
    "import numpy as np\n",
    "\n",
    "arr = np.arange(10)   # short-cut for array of range\n",
    "is_even = arr%3 == 0\n",
    "even = arr[is_even]\n",
    "print(even)\n",
    "print(is_even)"
   ]
  },
  {
   "cell_type": "markdown",
   "metadata": {},
   "source": [
    "This will prove extremely useful in filtering data. Again, not all conditions can be directly applied column-wise. There are also functions such as <code>logical_or</code> and <code>logical_and</code> that are column-wise logical oeprations on the arrays."
   ]
  },
  {
   "cell_type": "markdown",
   "metadata": {},
   "source": [
    "## Exercises\n",
    "\n",
    "1. <b><u>A smarter logical_and/or function</u></b>: I'm not sure why this doesn't exist in NumPy's library, considering how often one would use it. The problem with <code>logical_or</code> and <code>logical_and</code> is that it only takes in 2 NumPy arrays at a time. But what if you want to <code>and</code> across 10 boolean arrays at once? Create 2 functions that take in a list of boolean arrays, that run the <code>or</code> (or <code>and</code>) operation across all of them.\n",
    "2. <b><u>2-dimensional arrays</u></b>: So far, we have only worked with 1-dimensional arrays. NumPy can also handle n-dimensional arrays, though I tend to steer away from it since I prefer to use Pandas' Dataframes (another data structure we will learn about soon). That said, some functions require work with n-dimensional arrays, particularly those involving matrices. We'll just work with 2 dimensions. Write a function that takes in 2 arguments $X$ and $Y$, and returns and $X$-by-$Y$ multiplication tables in a 2d-Array. Experiment with indexing within the 2d-array.\n",
    "3. There is a function <code>hist2d</code> in matplotlib that generates a heatmap. Add an optional argument to your solution in (II) to also generate a heat map.\n",
    "4. We will now have a more efficient approach to finding prime numbers. Look up http://en.wikipedia.org/wiki/Sieve_of_Eratosthenes and implement the same algorithm. Write a fucntion take takes an argument <code>n</code>, and returns an array of all prime numbers up to n.\n",
    "5. There is a function <code>random.randn</code> that takes 2 arguments $X$ and $Y$ and gives and $X$-by-$Y$ matrix of random numbers. Make a function that generates a random $X$-by-$Y$ heat map."
   ]
  },
  {
   "cell_type": "code",
   "execution_count": 5,
   "metadata": {},
   "outputs": [
    {
     "name": "stdout",
     "output_type": "stream",
     "text": [
      "[1 0 1 0 1 0 1 0 1 0 1 0 1 0 1 0 1 0 1 0 1 0 1 0 1 0 1 0 1 0]\n",
      "[1 0 0 1 0 0 1 0 0 1 0 0 1 0 0 1 0 0 1 0 0 1 0 0 1 0 0 1 0 0]\n",
      "[1 0 0 0 0 1 0 0 0 0 1 0 0 0 0 1 0 0 0 0 1 0 0 0 0 1 0 0 0 0]\n",
      "[1 0 1 1 1 1 1 0 1 1 1 0 1 0 1 1 1 0 1 0 1 1 1 0 1 1 1 1 1 0]\n"
     ]
    }
   ],
   "source": [
    "import numpy as np\n",
    "\n",
    "arr = np.arange(30)\n",
    "is_two = arr%2 == 0\n",
    "is_three = arr%3 == 0\n",
    "is_five = arr%5 == 0\n",
    "\n",
    "mlist = [is_two, is_three, is_five]\n",
    "\n",
    "def bor(ls):\n",
    "    condition=np.arange(30)\n",
    "    condition.fill(0)\n",
    "    for i in range(30):\n",
    "        for carr in ls:\n",
    "            if carr[i]==1:\n",
    "                condition[i]=1\n",
    "    return condition\n",
    "\n",
    "print(is_two*1)\n",
    "print(is_three*1)\n",
    "print(is_five*1)\n",
    "print(bor(mlist))\n",
    "                \n",
    "                \n"
   ]
  },
  {
   "cell_type": "code",
   "execution_count": 24,
   "metadata": {},
   "outputs": [
    {
     "name": "stdout",
     "output_type": "stream",
     "text": [
      "[1 0 1 0 1 0 1 0 1 0 1 0 1 0 1 0 1 0 1 0 1 0 1 0 1 0 1 0 1 0 1 0 1 0 1 0 1\n",
      " 0 1 0 1 0 1 0 1 0 1 0 1 0 1 0 1 0 1 0 1 0 1 0]\n",
      "[1 0 0 1 0 0 1 0 0 1 0 0 1 0 0 1 0 0 1 0 0 1 0 0 1 0 0 1 0 0 1 0 0 1 0 0 1\n",
      " 0 0 1 0 0 1 0 0 1 0 0 1 0 0 1 0 0 1 0 0 1 0 0]\n",
      "[1 0 0 0 0 1 0 0 0 0 1 0 0 0 0 1 0 0 0 0 1 0 0 0 0 1 0 0 0 0 1 0 0 0 0 1 0\n",
      " 0 0 0 1 0 0 0 0 1 0 0 0 0 1 0 0 0 0 1 0 0 0 0]\n",
      "[1 0 0 0 0 0 0 0 0 0 0 0 0 0 0 0 0 0 0 0 0 0 0 0 0 0 0 0 0 0 1 0 0 0 0 0 0\n",
      " 0 0 0 0 0 0 0 0 0 0 0 0 0 0 0 0 0 0 0 0 0 0 0]\n"
     ]
    }
   ],
   "source": [
    "import numpy as np\n",
    "\n",
    "arr = np.arange(60)\n",
    "is_two = arr%2 == 0\n",
    "is_three = arr%3 == 0\n",
    "is_five = arr%5 == 0\n",
    "\n",
    "mlist = [is_two, is_three, is_five]\n",
    "\n",
    "def band(ls):\n",
    "    condition=np.arange(60)\n",
    "    condition.fill(1)\n",
    "    for i in range(60):\n",
    "        for carr in ls:\n",
    "            if carr[i]==0:\n",
    "                condition[i]=0\n",
    "    return condition\n",
    "\n",
    "print(is_two*1)\n",
    "print(is_three*1)\n",
    "print(is_five*1)\n",
    "print(band(mlist))\n",
    "                "
   ]
  },
  {
   "cell_type": "code",
   "execution_count": 13,
   "metadata": {},
   "outputs": [
    {
     "name": "stdout",
     "output_type": "stream",
     "text": [
      "[[  1.   2.   3.   4.   5.   6.   7.   8.]\n",
      " [  2.   4.   6.   8.  10.  12.  14.  16.]\n",
      " [  3.   6.   9.  12.  15.  18.  21.  24.]\n",
      " [  4.   8.  12.  16.  20.  24.  28.  32.]]\n"
     ]
    }
   ],
   "source": [
    "#Exercise 2\n",
    "\n",
    "import numpy as np\n",
    "\n",
    "marray = np.ndarray([4,8])\n",
    "\n",
    "for i in range(marray.shape[0]):\n",
    "    for j in range(marray.shape[1]):\n",
    "        marray[i,j]=(i+1)*(j+1)\n",
    "\n",
    "print(marray)"
   ]
  },
  {
   "cell_type": "code",
   "execution_count": 14,
   "metadata": {},
   "outputs": [],
   "source": [
    "#Exercise 3\n",
    "\n",
    "from matplotlib.colors import LogNorm\n",
    "import matplotlib.pyplot as plt\n",
    "import numpy as np\n",
    "\n",
    "# normal distribution center at x=0 and y=5\n",
    "x = np.random.rand(100000)\n",
    "y = np.random.rand(100000) + 5\n",
    "\n",
    "plt.hist2d(x, y, bins=40, norm=LogNorm())\n",
    "plt.colorbar()\n",
    "plt.show()"
   ]
  },
  {
   "cell_type": "code",
   "execution_count": 72,
   "metadata": {},
   "outputs": [
    {
     "name": "stdout",
     "output_type": "stream",
     "text": [
      "[<built-in function array> 2 3 5 7 11 13 17 19 23 29 31 37 41 43 47 53 59\n",
      " 61 67 71 73 79 83 89 97 101 103 107 109 113 127 131 137 139 149 151 157\n",
      " 163 167 173 179 181 191 193 197 199 211 223 227 229 233 239 241 251 257\n",
      " 263 269 271 277 281 283 293 307 311 313 317 331 337 347 349 353 359 367\n",
      " 373 379 383 389 397 401 409 419 421 431 433 439 443 449 457 461 463 467\n",
      " 479 487 491 499 503 509 521 523 541 547 557 563 569 571 577 587 593 599\n",
      " 601 607 613 617 619 631 641 643 647 653 659 661 673 677 683 691 701 709\n",
      " 719 727 733 739 743 751 757 761 769 773 787 797 809 811 821 823 827 829\n",
      " 839 853 857 859 863 877 881 883 887 907 911 919 929 937 941 947 953 967\n",
      " 971 977 983 991 997]\n"
     ]
    }
   ],
   "source": [
    "#Exercise 4\n",
    "\n",
    "import numpy as np\n",
    "\n",
    "arr = np.arange(2,1000)   # short-cut for array of range\n",
    "siz = arr.size+3\n",
    "primes = np.array\n",
    "\n",
    "for i in range(2,siz):\n",
    "    if arr.size!=0:\n",
    "        primes = np.append(primes, arr[0])\n",
    "        is_coprime = arr%arr[0] != 0\n",
    "        arr = arr[is_coprime]\n",
    "    \n",
    "print(primes)"
   ]
  },
  {
   "cell_type": "code",
   "execution_count": 11,
   "metadata": {},
   "outputs": [
    {
     "name": "stdout",
     "output_type": "stream",
     "text": [
      "[-0.27631239  0.08536108  1.6901549   0.88861965 -0.03634583  1.06556724\n",
      "  1.3652261  -1.49673773 -0.48553124 -0.79772738 -0.76025134  2.64103459\n",
      " -1.79407916  1.57244193  2.09373457  1.41938966  0.27255908  1.75575293\n",
      " -0.43953305 -1.69637116  0.90155888  0.27646154 -0.78171695  1.45757156\n",
      "  1.59027922  0.60919107  1.72896884  0.57794291 -0.8668053   0.67252599\n",
      "  1.70213761 -0.27575088  0.16542461 -1.29085528 -1.33141528  0.51227722\n",
      " -0.95795231  1.04797354  1.60070886 -0.10302578  1.08124661 -0.34744638\n",
      " -1.72399643 -0.03399855  0.15719831 -1.33365313 -0.01294738  0.16905265\n",
      " -0.6530314   2.21648997  2.14785722 -0.22134651  0.53973688 -0.87367505\n",
      "  1.87807135  0.6522814   0.65630554 -0.67302292  1.63615009  0.73284346\n",
      "  0.13382904  1.85915159 -1.37622445  0.97762738  0.2262762  -0.39973755\n",
      " -1.14974746 -1.49233684 -0.7465381   1.46663167  1.13855129  0.7216774\n",
      " -0.54961656 -0.37238401 -0.34403215  1.28434845  0.63561709 -0.52899821\n",
      " -0.35809656  0.75199035  0.67694122 -0.27193564  0.49863112  0.64730182\n",
      "  1.38511902  0.08695765 -0.57680166 -1.80261812  0.69993803  0.6723943\n",
      "  0.20782706 -0.62149921 -0.841957   -0.76282494 -0.83260245 -1.81861465\n",
      " -1.08217245 -0.01849348  1.0427454   0.91891431]\n"
     ]
    }
   ],
   "source": [
    "import numpy as np\n",
    "\n",
    "print(np.random.randn(100))"
   ]
  },
  {
   "cell_type": "code",
   "execution_count": null,
   "metadata": {
    "collapsed": true
   },
   "outputs": [],
   "source": []
  },
  {
   "cell_type": "code",
   "execution_count": 1,
   "metadata": {},
   "outputs": [
    {
     "data": {
      "text/plain": [
       "array([[-1.8037604 ,  1.9797056 , -0.11104845],\n",
       "       [-2.30568632, -0.33805288, -0.17024923],\n",
       "       [ 1.44654806,  0.16460886, -0.6833319 ],\n",
       "       [-0.47898826, -1.08868133,  0.37095317],\n",
       "       [ 0.73271976,  0.88327063,  0.6428354 ],\n",
       "       [ 0.9462552 , -0.92551678,  0.15696999],\n",
       "       [ 0.12011212,  0.35512276,  0.72902347]])"
      ]
     },
     "execution_count": 1,
     "metadata": {},
     "output_type": "execute_result"
    }
   ],
   "source": [
    "randn(7,3)"
   ]
  },
  {
   "cell_type": "markdown",
   "metadata": {},
   "source": [
    "***\n",
    "Miscellaneous formatting code:"
   ]
  },
  {
   "cell_type": "code",
   "execution_count": 2,
   "metadata": {},
   "outputs": [
    {
     "data": {
      "text/html": [
       "<style>\n",
       "    @font-face {\n",
       "        font-family: \"Computer Modern\";\n",
       "        src: url('http://mirrors.ctan.org/fonts/cm-unicode/fonts/otf/cmunss.otf');\n",
       "    }\n",
       "    div.cell{\n",
       "        width:800px;\n",
       "        margin-left:auto;\n",
       "        margin-right:auto;\n",
       "    }\n",
       "    h1 {\n",
       "        font-family: \"Charis SIL\", Palatino, serif;\n",
       "    }\n",
       "    h4{\n",
       "        margin-top:12px;\n",
       "        margin-bottom: 3px;\n",
       "       }\n",
       "    div.text_cell_render{\n",
       "        font-family: Computer Modern, \"Helvetica Neue\", Arial, Helvetica, Geneva, sans-serif;\n",
       "        line-height: 145%;\n",
       "        font-size: 120%;\n",
       "        width:800px;\n",
       "        margin-left:auto;\n",
       "        margin-right:auto;\n",
       "    }\n",
       "    .CodeMirror{\n",
       "            font-family: \"Source Code Pro\", source-code-pro,Consolas, monospace;\n",
       "    }\n",
       "    .prompt{\n",
       "        display: None;\n",
       "    }\n",
       "    .text_cell_render h5 {\n",
       "        font-weight: 300;\n",
       "        font-size: 16pt;\n",
       "        color: #4057A1;\n",
       "        font-style: italic;\n",
       "        margin-bottom: .5em;\n",
       "        margin-top: 0.5em;\n",
       "        display: block;\n",
       "    }\n",
       "    \n",
       "    .warning{\n",
       "        color: rgb( 240, 20, 20 )\n",
       "        }\n",
       "</style>\n",
       "<script>\n",
       "    MathJax.Hub.Config({\n",
       "                        TeX: {\n",
       "                           extensions: [\"AMSmath.js\"]\n",
       "                           },\n",
       "                tex2jax: {\n",
       "                    inlineMath: [ ['$','$'], [\"\\\\(\",\"\\\\)\"] ],\n",
       "                    displayMath: [ ['$$','$$'], [\"\\\\[\",\"\\\\]\"] ]\n",
       "                },\n",
       "                displayAlign: 'center', // Change this to 'center' to center equations.\n",
       "                \"HTML-CSS\": {\n",
       "                    styles: {'.MathJax_Display': {\"margin\": 4}}\n",
       "                }\n",
       "        });\n",
       "</script>"
      ],
      "text/plain": [
       "<IPython.core.display.HTML at 0x7b446b0>"
      ]
     },
     "execution_count": 2,
     "metadata": {},
     "output_type": "execute_result"
    }
   ],
   "source": [
    "from IPython.core.display import HTML\n",
    "def css_styling():\n",
    "    styles = open(\"custom.css\", \"r\").read()\n",
    "    return HTML(styles)\n",
    "css_styling()"
   ]
  }
 ],
 "metadata": {
  "kernelspec": {
   "display_name": "Python 3",
   "language": "python",
   "name": "python3"
  },
  "language_info": {
   "codemirror_mode": {
    "name": "ipython",
    "version": 3
   },
   "file_extension": ".py",
   "mimetype": "text/x-python",
   "name": "python",
   "nbconvert_exporter": "python",
   "pygments_lexer": "ipython3",
   "version": "3.6.1"
  }
 },
 "nbformat": 4,
 "nbformat_minor": 1
}
